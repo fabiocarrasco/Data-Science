{
 "cells": [
  {
   "cell_type": "markdown",
   "metadata": {},
   "source": [
    "## CS 4661: Group Project\n",
    "#### Classification of TikTok Songs\n",
    "#### Group: Alvin Lew, Fabio Carrasco, Diane Tabilas, Denise Tabilas"
   ]
  },
  {
   "cell_type": "markdown",
   "metadata": {},
   "source": [
    "### 1. Data Exploration and Preprocessing\n",
    "- Combine all five datasets into a new, labeled one"
   ]
  },
  {
   "cell_type": "code",
   "execution_count": 1,
   "metadata": {},
   "outputs": [],
   "source": [
    "import numpy as np\n",
    "import pandas as pd"
   ]
  },
  {
   "cell_type": "code",
   "execution_count": 2,
   "metadata": {},
   "outputs": [],
   "source": [
    "# Read all data files\n",
    "songs_2019 = pd.read_csv('./Data/TikTok_songs_2019.csv')\n",
    "songs_2020 = pd.read_csv('./Data/TikTok_songs_2020.csv')\n",
    "songs_2021 = pd.read_csv('./Data/TikTok_songs_2021.csv')\n",
    "songs_2022 = pd.read_csv('./Data/TikTok_songs_2022.csv')\n",
    "unpopular_songs = pd.read_csv('./Data/unpopular_songs.csv')\n"
   ]
  },
  {
   "cell_type": "code",
   "execution_count": 3,
   "metadata": {},
   "outputs": [
    {
     "data": {
      "text/plain": [
       "count    223.000000\n",
       "mean     180.451502\n",
       "std       54.352580\n",
       "min       43.427000\n",
       "25%      145.440000\n",
       "50%      177.479000\n",
       "75%      216.779500\n",
       "max      410.089000\n",
       "Name: duration_ms, dtype: float64"
      ]
     },
     "execution_count": 3,
     "metadata": {},
     "output_type": "execute_result"
    }
   ],
   "source": [
    "(songs_2019['duration_ms']/1000).describe()"
   ]
  },
  {
   "cell_type": "code",
   "execution_count": 4,
   "metadata": {},
   "outputs": [
    {
     "data": {
      "text/plain": [
       "count    10877.000000\n",
       "mean       205.578175\n",
       "std        106.763092\n",
       "min          4.693000\n",
       "25%        151.152000\n",
       "50%        197.522000\n",
       "75%        244.428000\n",
       "max       3637.277000\n",
       "Name: duration_ms, dtype: float64"
      ]
     },
     "execution_count": 4,
     "metadata": {},
     "output_type": "execute_result"
    }
   ],
   "source": [
    "(unpopular_songs['duration_ms']/1000).describe()"
   ]
  },
  {
   "cell_type": "code",
   "execution_count": 5,
   "metadata": {},
   "outputs": [
    {
     "data": {
      "text/html": [
       "<div>\n",
       "<style scoped>\n",
       "    .dataframe tbody tr th:only-of-type {\n",
       "        vertical-align: middle;\n",
       "    }\n",
       "\n",
       "    .dataframe tbody tr th {\n",
       "        vertical-align: top;\n",
       "    }\n",
       "\n",
       "    .dataframe thead th {\n",
       "        text-align: right;\n",
       "    }\n",
       "</style>\n",
       "<table border=\"1\" class=\"dataframe\">\n",
       "  <thead>\n",
       "    <tr style=\"text-align: right;\">\n",
       "      <th></th>\n",
       "      <th>track_name</th>\n",
       "      <th>artist_name</th>\n",
       "      <th>artist_pop</th>\n",
       "      <th>album</th>\n",
       "      <th>track_pop</th>\n",
       "      <th>danceability</th>\n",
       "      <th>energy</th>\n",
       "      <th>loudness</th>\n",
       "      <th>mode</th>\n",
       "      <th>key</th>\n",
       "      <th>speechiness</th>\n",
       "      <th>acousticness</th>\n",
       "      <th>instrumentalness</th>\n",
       "      <th>liveness</th>\n",
       "      <th>valence</th>\n",
       "      <th>tempo</th>\n",
       "      <th>time_signature</th>\n",
       "      <th>duration_ms</th>\n",
       "    </tr>\n",
       "  </thead>\n",
       "  <tbody>\n",
       "    <tr>\n",
       "      <th>0</th>\n",
       "      <td>Shake It</td>\n",
       "      <td>Metro Station</td>\n",
       "      <td>53</td>\n",
       "      <td>Metro Station</td>\n",
       "      <td>68</td>\n",
       "      <td>0.618</td>\n",
       "      <td>0.955</td>\n",
       "      <td>-3.836</td>\n",
       "      <td>1</td>\n",
       "      <td>4</td>\n",
       "      <td>0.0798</td>\n",
       "      <td>0.00221</td>\n",
       "      <td>0.000003</td>\n",
       "      <td>0.4860</td>\n",
       "      <td>0.790</td>\n",
       "      <td>150.034</td>\n",
       "      <td>4</td>\n",
       "      <td>179947</td>\n",
       "    </tr>\n",
       "    <tr>\n",
       "      <th>1</th>\n",
       "      <td>Chinese New Year</td>\n",
       "      <td>SALES</td>\n",
       "      <td>61</td>\n",
       "      <td>SALES - EP</td>\n",
       "      <td>53</td>\n",
       "      <td>0.744</td>\n",
       "      <td>0.845</td>\n",
       "      <td>-7.422</td>\n",
       "      <td>0</td>\n",
       "      <td>4</td>\n",
       "      <td>0.2530</td>\n",
       "      <td>0.75900</td>\n",
       "      <td>0.232000</td>\n",
       "      <td>0.1000</td>\n",
       "      <td>0.749</td>\n",
       "      <td>75.221</td>\n",
       "      <td>4</td>\n",
       "      <td>160000</td>\n",
       "    </tr>\n",
       "    <tr>\n",
       "      <th>2</th>\n",
       "      <td>Baby I'm Yours</td>\n",
       "      <td>Breakbot</td>\n",
       "      <td>57</td>\n",
       "      <td>By Your Side</td>\n",
       "      <td>69</td>\n",
       "      <td>0.829</td>\n",
       "      <td>0.792</td>\n",
       "      <td>-3.755</td>\n",
       "      <td>0</td>\n",
       "      <td>2</td>\n",
       "      <td>0.0668</td>\n",
       "      <td>0.72600</td>\n",
       "      <td>0.000006</td>\n",
       "      <td>0.1220</td>\n",
       "      <td>0.758</td>\n",
       "      <td>118.050</td>\n",
       "      <td>4</td>\n",
       "      <td>215507</td>\n",
       "    </tr>\n",
       "    <tr>\n",
       "      <th>3</th>\n",
       "      <td>The Git Up</td>\n",
       "      <td>Blanco Brown</td>\n",
       "      <td>60</td>\n",
       "      <td>The Git Up</td>\n",
       "      <td>2</td>\n",
       "      <td>0.847</td>\n",
       "      <td>0.678</td>\n",
       "      <td>-8.635</td>\n",
       "      <td>1</td>\n",
       "      <td>9</td>\n",
       "      <td>0.1090</td>\n",
       "      <td>0.06690</td>\n",
       "      <td>0.000000</td>\n",
       "      <td>0.2740</td>\n",
       "      <td>0.811</td>\n",
       "      <td>97.984</td>\n",
       "      <td>4</td>\n",
       "      <td>200594</td>\n",
       "    </tr>\n",
       "    <tr>\n",
       "      <th>4</th>\n",
       "      <td>Say Hey (I Love You)</td>\n",
       "      <td>Michael Franti &amp; Spearhead</td>\n",
       "      <td>58</td>\n",
       "      <td>All Rebel Rockers</td>\n",
       "      <td>0</td>\n",
       "      <td>0.738</td>\n",
       "      <td>0.983</td>\n",
       "      <td>-4.374</td>\n",
       "      <td>0</td>\n",
       "      <td>5</td>\n",
       "      <td>0.0855</td>\n",
       "      <td>0.03800</td>\n",
       "      <td>0.000006</td>\n",
       "      <td>0.1830</td>\n",
       "      <td>0.957</td>\n",
       "      <td>92.998</td>\n",
       "      <td>4</td>\n",
       "      <td>235760</td>\n",
       "    </tr>\n",
       "    <tr>\n",
       "      <th>...</th>\n",
       "      <td>...</td>\n",
       "      <td>...</td>\n",
       "      <td>...</td>\n",
       "      <td>...</td>\n",
       "      <td>...</td>\n",
       "      <td>...</td>\n",
       "      <td>...</td>\n",
       "      <td>...</td>\n",
       "      <td>...</td>\n",
       "      <td>...</td>\n",
       "      <td>...</td>\n",
       "      <td>...</td>\n",
       "      <td>...</td>\n",
       "      <td>...</td>\n",
       "      <td>...</td>\n",
       "      <td>...</td>\n",
       "      <td>...</td>\n",
       "      <td>...</td>\n",
       "    </tr>\n",
       "    <tr>\n",
       "      <th>218</th>\n",
       "      <td>Skinny Legend Anthem</td>\n",
       "      <td>Ava Louise</td>\n",
       "      <td>32</td>\n",
       "      <td>Skinny Legend Anthem</td>\n",
       "      <td>50</td>\n",
       "      <td>0.845</td>\n",
       "      <td>0.518</td>\n",
       "      <td>-7.568</td>\n",
       "      <td>1</td>\n",
       "      <td>11</td>\n",
       "      <td>0.2990</td>\n",
       "      <td>0.07030</td>\n",
       "      <td>0.000000</td>\n",
       "      <td>0.1220</td>\n",
       "      <td>0.443</td>\n",
       "      <td>129.951</td>\n",
       "      <td>4</td>\n",
       "      <td>135993</td>\n",
       "    </tr>\n",
       "    <tr>\n",
       "      <th>219</th>\n",
       "      <td>Material Girl</td>\n",
       "      <td>Madonna</td>\n",
       "      <td>77</td>\n",
       "      <td>Celebration (double disc version)</td>\n",
       "      <td>78</td>\n",
       "      <td>0.742</td>\n",
       "      <td>0.883</td>\n",
       "      <td>-3.419</td>\n",
       "      <td>1</td>\n",
       "      <td>0</td>\n",
       "      <td>0.0329</td>\n",
       "      <td>0.33300</td>\n",
       "      <td>0.000008</td>\n",
       "      <td>0.0964</td>\n",
       "      <td>0.978</td>\n",
       "      <td>136.506</td>\n",
       "      <td>4</td>\n",
       "      <td>240280</td>\n",
       "    </tr>\n",
       "    <tr>\n",
       "      <th>220</th>\n",
       "      <td>I Wish - Radio Edit</td>\n",
       "      <td>Skee-Lo</td>\n",
       "      <td>51</td>\n",
       "      <td>I Wish</td>\n",
       "      <td>63</td>\n",
       "      <td>0.715</td>\n",
       "      <td>0.738</td>\n",
       "      <td>-10.139</td>\n",
       "      <td>1</td>\n",
       "      <td>7</td>\n",
       "      <td>0.1570</td>\n",
       "      <td>0.00826</td>\n",
       "      <td>0.000000</td>\n",
       "      <td>0.2600</td>\n",
       "      <td>0.573</td>\n",
       "      <td>97.877</td>\n",
       "      <td>4</td>\n",
       "      <td>252307</td>\n",
       "    </tr>\n",
       "    <tr>\n",
       "      <th>221</th>\n",
       "      <td>Oh No I Got a Disease</td>\n",
       "      <td>Buss Crew</td>\n",
       "      <td>11</td>\n",
       "      <td>Oh No I Got a Disease</td>\n",
       "      <td>26</td>\n",
       "      <td>0.649</td>\n",
       "      <td>0.735</td>\n",
       "      <td>-4.365</td>\n",
       "      <td>0</td>\n",
       "      <td>10</td>\n",
       "      <td>0.7300</td>\n",
       "      <td>0.14600</td>\n",
       "      <td>0.000000</td>\n",
       "      <td>0.1240</td>\n",
       "      <td>0.845</td>\n",
       "      <td>86.704</td>\n",
       "      <td>5</td>\n",
       "      <td>134769</td>\n",
       "    </tr>\n",
       "    <tr>\n",
       "      <th>222</th>\n",
       "      <td>Woahh</td>\n",
       "      <td>Jufu</td>\n",
       "      <td>31</td>\n",
       "      <td>Woahh</td>\n",
       "      <td>22</td>\n",
       "      <td>0.749</td>\n",
       "      <td>0.283</td>\n",
       "      <td>-12.368</td>\n",
       "      <td>0</td>\n",
       "      <td>0</td>\n",
       "      <td>0.3280</td>\n",
       "      <td>0.61800</td>\n",
       "      <td>0.000004</td>\n",
       "      <td>0.0825</td>\n",
       "      <td>0.269</td>\n",
       "      <td>142.046</td>\n",
       "      <td>4</td>\n",
       "      <td>172888</td>\n",
       "    </tr>\n",
       "  </tbody>\n",
       "</table>\n",
       "<p>223 rows × 18 columns</p>\n",
       "</div>"
      ],
      "text/plain": [
       "                track_name                 artist_name  artist_pop  \\\n",
       "0                 Shake It               Metro Station          53   \n",
       "1         Chinese New Year                       SALES          61   \n",
       "2           Baby I'm Yours                    Breakbot          57   \n",
       "3               The Git Up                Blanco Brown          60   \n",
       "4     Say Hey (I Love You)  Michael Franti & Spearhead          58   \n",
       "..                     ...                         ...         ...   \n",
       "218   Skinny Legend Anthem                  Ava Louise          32   \n",
       "219          Material Girl                     Madonna          77   \n",
       "220    I Wish - Radio Edit                     Skee-Lo          51   \n",
       "221  Oh No I Got a Disease                   Buss Crew          11   \n",
       "222                  Woahh                        Jufu          31   \n",
       "\n",
       "                                 album  track_pop  danceability  energy  \\\n",
       "0                        Metro Station         68         0.618   0.955   \n",
       "1                           SALES - EP         53         0.744   0.845   \n",
       "2                         By Your Side         69         0.829   0.792   \n",
       "3                           The Git Up          2         0.847   0.678   \n",
       "4                    All Rebel Rockers          0         0.738   0.983   \n",
       "..                                 ...        ...           ...     ...   \n",
       "218               Skinny Legend Anthem         50         0.845   0.518   \n",
       "219  Celebration (double disc version)         78         0.742   0.883   \n",
       "220                             I Wish         63         0.715   0.738   \n",
       "221              Oh No I Got a Disease         26         0.649   0.735   \n",
       "222                              Woahh         22         0.749   0.283   \n",
       "\n",
       "     loudness  mode  key  speechiness  acousticness  instrumentalness  \\\n",
       "0      -3.836     1    4       0.0798       0.00221          0.000003   \n",
       "1      -7.422     0    4       0.2530       0.75900          0.232000   \n",
       "2      -3.755     0    2       0.0668       0.72600          0.000006   \n",
       "3      -8.635     1    9       0.1090       0.06690          0.000000   \n",
       "4      -4.374     0    5       0.0855       0.03800          0.000006   \n",
       "..        ...   ...  ...          ...           ...               ...   \n",
       "218    -7.568     1   11       0.2990       0.07030          0.000000   \n",
       "219    -3.419     1    0       0.0329       0.33300          0.000008   \n",
       "220   -10.139     1    7       0.1570       0.00826          0.000000   \n",
       "221    -4.365     0   10       0.7300       0.14600          0.000000   \n",
       "222   -12.368     0    0       0.3280       0.61800          0.000004   \n",
       "\n",
       "     liveness  valence    tempo  time_signature  duration_ms  \n",
       "0      0.4860    0.790  150.034               4       179947  \n",
       "1      0.1000    0.749   75.221               4       160000  \n",
       "2      0.1220    0.758  118.050               4       215507  \n",
       "3      0.2740    0.811   97.984               4       200594  \n",
       "4      0.1830    0.957   92.998               4       235760  \n",
       "..        ...      ...      ...             ...          ...  \n",
       "218    0.1220    0.443  129.951               4       135993  \n",
       "219    0.0964    0.978  136.506               4       240280  \n",
       "220    0.2600    0.573   97.877               4       252307  \n",
       "221    0.1240    0.845   86.704               5       134769  \n",
       "222    0.0825    0.269  142.046               4       172888  \n",
       "\n",
       "[223 rows x 18 columns]"
      ]
     },
     "execution_count": 5,
     "metadata": {},
     "output_type": "execute_result"
    }
   ],
   "source": [
    "songs_2019"
   ]
  },
  {
   "cell_type": "code",
   "execution_count": 6,
   "metadata": {},
   "outputs": [
    {
     "data": {
      "text/html": [
       "<div>\n",
       "<style scoped>\n",
       "    .dataframe tbody tr th:only-of-type {\n",
       "        vertical-align: middle;\n",
       "    }\n",
       "\n",
       "    .dataframe tbody tr th {\n",
       "        vertical-align: top;\n",
       "    }\n",
       "\n",
       "    .dataframe thead th {\n",
       "        text-align: right;\n",
       "    }\n",
       "</style>\n",
       "<table border=\"1\" class=\"dataframe\">\n",
       "  <thead>\n",
       "    <tr style=\"text-align: right;\">\n",
       "      <th></th>\n",
       "      <th>danceability</th>\n",
       "      <th>energy</th>\n",
       "      <th>key</th>\n",
       "      <th>loudness</th>\n",
       "      <th>mode</th>\n",
       "      <th>speechiness</th>\n",
       "      <th>acousticness</th>\n",
       "      <th>instrumentalness</th>\n",
       "      <th>liveness</th>\n",
       "      <th>valence</th>\n",
       "      <th>tempo</th>\n",
       "      <th>duration_ms</th>\n",
       "      <th>explicit</th>\n",
       "      <th>popularity</th>\n",
       "      <th>track_name</th>\n",
       "      <th>track_artist</th>\n",
       "      <th>track_id</th>\n",
       "    </tr>\n",
       "  </thead>\n",
       "  <tbody>\n",
       "    <tr>\n",
       "      <th>0</th>\n",
       "      <td>0.530</td>\n",
       "      <td>0.770</td>\n",
       "      <td>4</td>\n",
       "      <td>-6.633</td>\n",
       "      <td>0</td>\n",
       "      <td>0.0389</td>\n",
       "      <td>0.284</td>\n",
       "      <td>0.501000</td>\n",
       "      <td>0.744</td>\n",
       "      <td>0.623</td>\n",
       "      <td>120.144</td>\n",
       "      <td>225696</td>\n",
       "      <td>False</td>\n",
       "      <td>2</td>\n",
       "      <td>No Regrets</td>\n",
       "      <td>James Reeder</td>\n",
       "      <td>6f2c4a9lNx8aowZJngv7cJ</td>\n",
       "    </tr>\n",
       "    <tr>\n",
       "      <th>1</th>\n",
       "      <td>0.565</td>\n",
       "      <td>0.730</td>\n",
       "      <td>1</td>\n",
       "      <td>-6.063</td>\n",
       "      <td>1</td>\n",
       "      <td>0.0730</td>\n",
       "      <td>0.365</td>\n",
       "      <td>0.000000</td>\n",
       "      <td>0.237</td>\n",
       "      <td>0.511</td>\n",
       "      <td>130.026</td>\n",
       "      <td>158093</td>\n",
       "      <td>False</td>\n",
       "      <td>2</td>\n",
       "      <td>Wild Life</td>\n",
       "      <td>James Reeder</td>\n",
       "      <td>3fTs52jsDzSuVLsifxNKO8</td>\n",
       "    </tr>\n",
       "    <tr>\n",
       "      <th>2</th>\n",
       "      <td>0.427</td>\n",
       "      <td>0.546</td>\n",
       "      <td>4</td>\n",
       "      <td>-8.727</td>\n",
       "      <td>1</td>\n",
       "      <td>0.0849</td>\n",
       "      <td>0.539</td>\n",
       "      <td>0.015200</td>\n",
       "      <td>0.368</td>\n",
       "      <td>0.435</td>\n",
       "      <td>78.345</td>\n",
       "      <td>167262</td>\n",
       "      <td>False</td>\n",
       "      <td>2</td>\n",
       "      <td>Fangs</td>\n",
       "      <td>James Reeder</td>\n",
       "      <td>6NPafqavrv0icaIHMQnXDy</td>\n",
       "    </tr>\n",
       "    <tr>\n",
       "      <th>3</th>\n",
       "      <td>0.421</td>\n",
       "      <td>0.531</td>\n",
       "      <td>7</td>\n",
       "      <td>-5.516</td>\n",
       "      <td>1</td>\n",
       "      <td>0.0262</td>\n",
       "      <td>0.706</td>\n",
       "      <td>0.000208</td>\n",
       "      <td>0.110</td>\n",
       "      <td>0.383</td>\n",
       "      <td>85.080</td>\n",
       "      <td>236832</td>\n",
       "      <td>False</td>\n",
       "      <td>2</td>\n",
       "      <td>Afterburner</td>\n",
       "      <td>James Reeder</td>\n",
       "      <td>3vGmhxveURgmlZStvo0uc1</td>\n",
       "    </tr>\n",
       "    <tr>\n",
       "      <th>4</th>\n",
       "      <td>0.537</td>\n",
       "      <td>0.804</td>\n",
       "      <td>8</td>\n",
       "      <td>-7.378</td>\n",
       "      <td>0</td>\n",
       "      <td>0.1570</td>\n",
       "      <td>0.379</td>\n",
       "      <td>0.000489</td>\n",
       "      <td>0.323</td>\n",
       "      <td>0.543</td>\n",
       "      <td>139.950</td>\n",
       "      <td>239400</td>\n",
       "      <td>False</td>\n",
       "      <td>2</td>\n",
       "      <td>Hellfire Rising</td>\n",
       "      <td>James Reeder</td>\n",
       "      <td>4O2qRbfCHzMMgfbw9DBdGf</td>\n",
       "    </tr>\n",
       "  </tbody>\n",
       "</table>\n",
       "</div>"
      ],
      "text/plain": [
       "   danceability  energy  key  loudness  mode  speechiness  acousticness  \\\n",
       "0         0.530   0.770    4    -6.633     0       0.0389         0.284   \n",
       "1         0.565   0.730    1    -6.063     1       0.0730         0.365   \n",
       "2         0.427   0.546    4    -8.727     1       0.0849         0.539   \n",
       "3         0.421   0.531    7    -5.516     1       0.0262         0.706   \n",
       "4         0.537   0.804    8    -7.378     0       0.1570         0.379   \n",
       "\n",
       "   instrumentalness  liveness  valence    tempo  duration_ms  explicit  \\\n",
       "0          0.501000     0.744    0.623  120.144       225696     False   \n",
       "1          0.000000     0.237    0.511  130.026       158093     False   \n",
       "2          0.015200     0.368    0.435   78.345       167262     False   \n",
       "3          0.000208     0.110    0.383   85.080       236832     False   \n",
       "4          0.000489     0.323    0.543  139.950       239400     False   \n",
       "\n",
       "   popularity       track_name  track_artist                track_id  \n",
       "0           2       No Regrets  James Reeder  6f2c4a9lNx8aowZJngv7cJ  \n",
       "1           2        Wild Life  James Reeder  3fTs52jsDzSuVLsifxNKO8  \n",
       "2           2            Fangs  James Reeder  6NPafqavrv0icaIHMQnXDy  \n",
       "3           2      Afterburner  James Reeder  3vGmhxveURgmlZStvo0uc1  \n",
       "4           2  Hellfire Rising  James Reeder  4O2qRbfCHzMMgfbw9DBdGf  "
      ]
     },
     "execution_count": 6,
     "metadata": {},
     "output_type": "execute_result"
    }
   ],
   "source": [
    "unpopular_songs.head()"
   ]
  },
  {
   "cell_type": "code",
   "execution_count": 7,
   "metadata": {},
   "outputs": [
    {
     "data": {
      "text/plain": [
       "Index(['danceability', 'energy', 'key', 'loudness', 'mode', 'speechiness',\n",
       "       'acousticness', 'instrumentalness', 'liveness', 'valence', 'tempo',\n",
       "       'duration_ms', 'explicit', 'popularity', 'track_name', 'track_artist',\n",
       "       'track_id'],\n",
       "      dtype='object')"
      ]
     },
     "execution_count": 7,
     "metadata": {},
     "output_type": "execute_result"
    }
   ],
   "source": [
    "unpopular_songs.columns"
   ]
  },
  {
   "cell_type": "code",
   "execution_count": 8,
   "metadata": {},
   "outputs": [
    {
     "data": {
      "text/plain": [
       "True"
      ]
     },
     "execution_count": 8,
     "metadata": {},
     "output_type": "execute_result"
    }
   ],
   "source": [
    "# Confirm that all of the tiktok datasets have the same features\n",
    "list(songs_2019.columns) == list(songs_2020.columns) == list(songs_2021.columns) == list(songs_2022.columns)"
   ]
  },
  {
   "cell_type": "code",
   "execution_count": 9,
   "metadata": {},
   "outputs": [],
   "source": [
    "# Rename a column from the unpopular songs dataset so that everything matches with the TikTok song datasets\n",
    "unpopular_songs.rename(columns = {'track_artist':'artist_name'}, inplace = True)"
   ]
  },
  {
   "cell_type": "code",
   "execution_count": 10,
   "metadata": {},
   "outputs": [
    {
     "data": {
      "text/plain": [
       "Index(['danceability', 'energy', 'key', 'loudness', 'mode', 'speechiness',\n",
       "       'acousticness', 'instrumentalness', 'liveness', 'valence', 'tempo',\n",
       "       'duration_ms', 'explicit', 'popularity', 'track_name', 'artist_name',\n",
       "       'track_id'],\n",
       "      dtype='object')"
      ]
     },
     "execution_count": 10,
     "metadata": {},
     "output_type": "execute_result"
    }
   ],
   "source": [
    "unpopular_songs.columns"
   ]
  },
  {
   "cell_type": "code",
   "execution_count": 11,
   "metadata": {},
   "outputs": [],
   "source": [
    "# Label both the unpopular songs and the popular TikTok songs\n",
    "unpopular_songs['is_popular'] = False\n",
    "songs_2019[\"is_popular\"] = True\n",
    "songs_2020[\"is_popular\"] = True\n",
    "songs_2021[\"is_popular\"] = True\n",
    "songs_2022[\"is_popular\"] = True"
   ]
  },
  {
   "cell_type": "code",
   "execution_count": 12,
   "metadata": {},
   "outputs": [
    {
     "data": {
      "text/html": [
       "<div>\n",
       "<style scoped>\n",
       "    .dataframe tbody tr th:only-of-type {\n",
       "        vertical-align: middle;\n",
       "    }\n",
       "\n",
       "    .dataframe tbody tr th {\n",
       "        vertical-align: top;\n",
       "    }\n",
       "\n",
       "    .dataframe thead th {\n",
       "        text-align: right;\n",
       "    }\n",
       "</style>\n",
       "<table border=\"1\" class=\"dataframe\">\n",
       "  <thead>\n",
       "    <tr style=\"text-align: right;\">\n",
       "      <th></th>\n",
       "      <th>track_name</th>\n",
       "      <th>artist_name</th>\n",
       "      <th>danceability</th>\n",
       "      <th>energy</th>\n",
       "      <th>loudness</th>\n",
       "      <th>mode</th>\n",
       "      <th>key</th>\n",
       "      <th>speechiness</th>\n",
       "      <th>acousticness</th>\n",
       "      <th>instrumentalness</th>\n",
       "      <th>liveness</th>\n",
       "      <th>valence</th>\n",
       "      <th>tempo</th>\n",
       "      <th>duration_ms</th>\n",
       "      <th>is_popular</th>\n",
       "    </tr>\n",
       "  </thead>\n",
       "  <tbody>\n",
       "    <tr>\n",
       "      <th>0</th>\n",
       "      <td>Shake It</td>\n",
       "      <td>Metro Station</td>\n",
       "      <td>0.618</td>\n",
       "      <td>0.9550</td>\n",
       "      <td>-3.836</td>\n",
       "      <td>1</td>\n",
       "      <td>4</td>\n",
       "      <td>0.0798</td>\n",
       "      <td>0.00221</td>\n",
       "      <td>0.000003</td>\n",
       "      <td>0.486</td>\n",
       "      <td>0.7900</td>\n",
       "      <td>150.034</td>\n",
       "      <td>179947</td>\n",
       "      <td>True</td>\n",
       "    </tr>\n",
       "    <tr>\n",
       "      <th>1</th>\n",
       "      <td>Chinese New Year</td>\n",
       "      <td>SALES</td>\n",
       "      <td>0.744</td>\n",
       "      <td>0.8450</td>\n",
       "      <td>-7.422</td>\n",
       "      <td>0</td>\n",
       "      <td>4</td>\n",
       "      <td>0.2530</td>\n",
       "      <td>0.75900</td>\n",
       "      <td>0.232000</td>\n",
       "      <td>0.100</td>\n",
       "      <td>0.7490</td>\n",
       "      <td>75.221</td>\n",
       "      <td>160000</td>\n",
       "      <td>True</td>\n",
       "    </tr>\n",
       "    <tr>\n",
       "      <th>2</th>\n",
       "      <td>Baby I'm Yours</td>\n",
       "      <td>Breakbot</td>\n",
       "      <td>0.829</td>\n",
       "      <td>0.7920</td>\n",
       "      <td>-3.755</td>\n",
       "      <td>0</td>\n",
       "      <td>2</td>\n",
       "      <td>0.0668</td>\n",
       "      <td>0.72600</td>\n",
       "      <td>0.000006</td>\n",
       "      <td>0.122</td>\n",
       "      <td>0.7580</td>\n",
       "      <td>118.050</td>\n",
       "      <td>215507</td>\n",
       "      <td>True</td>\n",
       "    </tr>\n",
       "    <tr>\n",
       "      <th>3</th>\n",
       "      <td>The Git Up</td>\n",
       "      <td>Blanco Brown</td>\n",
       "      <td>0.847</td>\n",
       "      <td>0.6780</td>\n",
       "      <td>-8.635</td>\n",
       "      <td>1</td>\n",
       "      <td>9</td>\n",
       "      <td>0.1090</td>\n",
       "      <td>0.06690</td>\n",
       "      <td>0.000000</td>\n",
       "      <td>0.274</td>\n",
       "      <td>0.8110</td>\n",
       "      <td>97.984</td>\n",
       "      <td>200594</td>\n",
       "      <td>True</td>\n",
       "    </tr>\n",
       "    <tr>\n",
       "      <th>4</th>\n",
       "      <td>Say Hey (I Love You)</td>\n",
       "      <td>Michael Franti &amp; Spearhead</td>\n",
       "      <td>0.738</td>\n",
       "      <td>0.9830</td>\n",
       "      <td>-4.374</td>\n",
       "      <td>0</td>\n",
       "      <td>5</td>\n",
       "      <td>0.0855</td>\n",
       "      <td>0.03800</td>\n",
       "      <td>0.000006</td>\n",
       "      <td>0.183</td>\n",
       "      <td>0.9570</td>\n",
       "      <td>92.998</td>\n",
       "      <td>235760</td>\n",
       "      <td>True</td>\n",
       "    </tr>\n",
       "    <tr>\n",
       "      <th>...</th>\n",
       "      <td>...</td>\n",
       "      <td>...</td>\n",
       "      <td>...</td>\n",
       "      <td>...</td>\n",
       "      <td>...</td>\n",
       "      <td>...</td>\n",
       "      <td>...</td>\n",
       "      <td>...</td>\n",
       "      <td>...</td>\n",
       "      <td>...</td>\n",
       "      <td>...</td>\n",
       "      <td>...</td>\n",
       "      <td>...</td>\n",
       "      <td>...</td>\n",
       "      <td>...</td>\n",
       "    </tr>\n",
       "    <tr>\n",
       "      <th>10872</th>\n",
       "      <td>Bugs n Toes</td>\n",
       "      <td>Good Girl, Bad Boy</td>\n",
       "      <td>0.686</td>\n",
       "      <td>0.1320</td>\n",
       "      <td>-20.363</td>\n",
       "      <td>1</td>\n",
       "      <td>0</td>\n",
       "      <td>0.0339</td>\n",
       "      <td>0.26800</td>\n",
       "      <td>0.001050</td>\n",
       "      <td>0.181</td>\n",
       "      <td>0.4910</td>\n",
       "      <td>95.987</td>\n",
       "      <td>285286</td>\n",
       "      <td>False</td>\n",
       "    </tr>\n",
       "    <tr>\n",
       "      <th>10873</th>\n",
       "      <td>Scattered Thoughts</td>\n",
       "      <td>Good Girl, Bad Boy</td>\n",
       "      <td>0.532</td>\n",
       "      <td>0.0573</td>\n",
       "      <td>-20.476</td>\n",
       "      <td>0</td>\n",
       "      <td>11</td>\n",
       "      <td>0.0479</td>\n",
       "      <td>0.90000</td>\n",
       "      <td>0.087700</td>\n",
       "      <td>0.111</td>\n",
       "      <td>0.0731</td>\n",
       "      <td>114.123</td>\n",
       "      <td>360729</td>\n",
       "      <td>False</td>\n",
       "    </tr>\n",
       "    <tr>\n",
       "      <th>10874</th>\n",
       "      <td>Travelin Bug</td>\n",
       "      <td>Good Girl, Bad Boy</td>\n",
       "      <td>0.589</td>\n",
       "      <td>0.0308</td>\n",
       "      <td>-27.237</td>\n",
       "      <td>1</td>\n",
       "      <td>3</td>\n",
       "      <td>0.0405</td>\n",
       "      <td>0.94300</td>\n",
       "      <td>0.014200</td>\n",
       "      <td>0.106</td>\n",
       "      <td>0.5040</td>\n",
       "      <td>83.952</td>\n",
       "      <td>286585</td>\n",
       "      <td>False</td>\n",
       "    </tr>\n",
       "    <tr>\n",
       "      <th>10875</th>\n",
       "      <td>Goodnight</td>\n",
       "      <td>Good Girl, Bad Boy</td>\n",
       "      <td>0.669</td>\n",
       "      <td>0.0381</td>\n",
       "      <td>-18.631</td>\n",
       "      <td>1</td>\n",
       "      <td>7</td>\n",
       "      <td>0.0382</td>\n",
       "      <td>0.78300</td>\n",
       "      <td>0.000000</td>\n",
       "      <td>0.182</td>\n",
       "      <td>0.1730</td>\n",
       "      <td>99.841</td>\n",
       "      <td>349454</td>\n",
       "      <td>False</td>\n",
       "    </tr>\n",
       "    <tr>\n",
       "      <th>10876</th>\n",
       "      <td>Paranoid</td>\n",
       "      <td>Talen Talea</td>\n",
       "      <td>0.818</td>\n",
       "      <td>0.1460</td>\n",
       "      <td>-19.684</td>\n",
       "      <td>0</td>\n",
       "      <td>9</td>\n",
       "      <td>0.1230</td>\n",
       "      <td>0.82800</td>\n",
       "      <td>0.959000</td>\n",
       "      <td>0.108</td>\n",
       "      <td>0.2350</td>\n",
       "      <td>110.026</td>\n",
       "      <td>74180</td>\n",
       "      <td>False</td>\n",
       "    </tr>\n",
       "  </tbody>\n",
       "</table>\n",
       "<p>11845 rows × 15 columns</p>\n",
       "</div>"
      ],
      "text/plain": [
       "                 track_name                 artist_name  danceability  energy  \\\n",
       "0                  Shake It               Metro Station         0.618  0.9550   \n",
       "1          Chinese New Year                       SALES         0.744  0.8450   \n",
       "2            Baby I'm Yours                    Breakbot         0.829  0.7920   \n",
       "3                The Git Up                Blanco Brown         0.847  0.6780   \n",
       "4      Say Hey (I Love You)  Michael Franti & Spearhead         0.738  0.9830   \n",
       "...                     ...                         ...           ...     ...   \n",
       "10872           Bugs n Toes          Good Girl, Bad Boy         0.686  0.1320   \n",
       "10873    Scattered Thoughts          Good Girl, Bad Boy         0.532  0.0573   \n",
       "10874          Travelin Bug          Good Girl, Bad Boy         0.589  0.0308   \n",
       "10875             Goodnight          Good Girl, Bad Boy         0.669  0.0381   \n",
       "10876              Paranoid                 Talen Talea         0.818  0.1460   \n",
       "\n",
       "       loudness  mode  key  speechiness  acousticness  instrumentalness  \\\n",
       "0        -3.836     1    4       0.0798       0.00221          0.000003   \n",
       "1        -7.422     0    4       0.2530       0.75900          0.232000   \n",
       "2        -3.755     0    2       0.0668       0.72600          0.000006   \n",
       "3        -8.635     1    9       0.1090       0.06690          0.000000   \n",
       "4        -4.374     0    5       0.0855       0.03800          0.000006   \n",
       "...         ...   ...  ...          ...           ...               ...   \n",
       "10872   -20.363     1    0       0.0339       0.26800          0.001050   \n",
       "10873   -20.476     0   11       0.0479       0.90000          0.087700   \n",
       "10874   -27.237     1    3       0.0405       0.94300          0.014200   \n",
       "10875   -18.631     1    7       0.0382       0.78300          0.000000   \n",
       "10876   -19.684     0    9       0.1230       0.82800          0.959000   \n",
       "\n",
       "       liveness  valence    tempo  duration_ms  is_popular  \n",
       "0         0.486   0.7900  150.034       179947        True  \n",
       "1         0.100   0.7490   75.221       160000        True  \n",
       "2         0.122   0.7580  118.050       215507        True  \n",
       "3         0.274   0.8110   97.984       200594        True  \n",
       "4         0.183   0.9570   92.998       235760        True  \n",
       "...         ...      ...      ...          ...         ...  \n",
       "10872     0.181   0.4910   95.987       285286       False  \n",
       "10873     0.111   0.0731  114.123       360729       False  \n",
       "10874     0.106   0.5040   83.952       286585       False  \n",
       "10875     0.182   0.1730   99.841       349454       False  \n",
       "10876     0.108   0.2350  110.026        74180       False  \n",
       "\n",
       "[11845 rows x 15 columns]"
      ]
     },
     "execution_count": 12,
     "metadata": {},
     "output_type": "execute_result"
    }
   ],
   "source": [
    "cols_of_interest = ['track_name', 'artist_name', 'danceability', 'energy', \n",
    "       'loudness', 'mode', 'key', 'speechiness', 'acousticness', 'instrumentalness',\n",
    "       'liveness', 'valence', 'tempo','duration_ms', 'is_popular']\n",
    "\n",
    "# Concatenate/combine all 5 datasets into one\n",
    "combined_df = pd.concat([songs_2019[cols_of_interest], songs_2020[cols_of_interest], songs_2021[cols_of_interest], \n",
    "       songs_2022[cols_of_interest], unpopular_songs[cols_of_interest]])\n",
    "\n",
    "# Concatenate / combine all 5 datasets into one\n",
    "combined_df"
   ]
  },
  {
   "cell_type": "code",
   "execution_count": 13,
   "metadata": {},
   "outputs": [],
   "source": [
    "# Convert and save to csv\n",
    "combined_df.to_csv('./Data/combined_songs_dataset.csv', index=False)"
   ]
  },
  {
   "cell_type": "code",
   "execution_count": 14,
   "metadata": {},
   "outputs": [
    {
     "name": "stdout",
     "output_type": "stream",
     "text": [
      "Popular: 968\n",
      "Unpopular: 10877\n",
      "Percentage of songs that are popular: 8.17%\n"
     ]
    }
   ],
   "source": [
    "numPop = len(combined_df[combined_df.is_popular == True])\n",
    "numUnPop = len(combined_df[combined_df.is_popular == False])\n",
    "\n",
    "print(\"Popular: \" + str(numPop))\n",
    "print(\"Unpopular: \" + str(numUnPop))\n",
    "print(\"Percentage of songs that are popular: \" + str(round(numPop/(numPop + numUnPop)*100, 2)) + \"%\")"
   ]
  },
  {
   "cell_type": "code",
   "execution_count": 15,
   "metadata": {},
   "outputs": [
    {
     "data": {
      "text/html": [
       "<div>\n",
       "<style scoped>\n",
       "    .dataframe tbody tr th:only-of-type {\n",
       "        vertical-align: middle;\n",
       "    }\n",
       "\n",
       "    .dataframe tbody tr th {\n",
       "        vertical-align: top;\n",
       "    }\n",
       "\n",
       "    .dataframe thead th {\n",
       "        text-align: right;\n",
       "    }\n",
       "</style>\n",
       "<table border=\"1\" class=\"dataframe\">\n",
       "  <thead>\n",
       "    <tr style=\"text-align: right;\">\n",
       "      <th></th>\n",
       "      <th>track_name</th>\n",
       "      <th>artist_name</th>\n",
       "      <th>danceability</th>\n",
       "      <th>energy</th>\n",
       "      <th>loudness</th>\n",
       "      <th>mode</th>\n",
       "      <th>key</th>\n",
       "      <th>speechiness</th>\n",
       "      <th>acousticness</th>\n",
       "      <th>instrumentalness</th>\n",
       "      <th>liveness</th>\n",
       "      <th>valence</th>\n",
       "      <th>tempo</th>\n",
       "      <th>duration_ms</th>\n",
       "      <th>is_popular</th>\n",
       "    </tr>\n",
       "  </thead>\n",
       "  <tbody>\n",
       "    <tr>\n",
       "      <th>187</th>\n",
       "      <td>It's You</td>\n",
       "      <td>Ali Gatie</td>\n",
       "      <td>0.7320</td>\n",
       "      <td>0.46300</td>\n",
       "      <td>-6.972</td>\n",
       "      <td>0</td>\n",
       "      <td>11</td>\n",
       "      <td>0.0287</td>\n",
       "      <td>0.37400</td>\n",
       "      <td>0.000000</td>\n",
       "      <td>0.1940</td>\n",
       "      <td>0.39700</td>\n",
       "      <td>95.971</td>\n",
       "      <td>212607</td>\n",
       "      <td>True</td>\n",
       "    </tr>\n",
       "    <tr>\n",
       "      <th>0</th>\n",
       "      <td>Say So</td>\n",
       "      <td>Doja Cat</td>\n",
       "      <td>0.7870</td>\n",
       "      <td>0.67300</td>\n",
       "      <td>-4.583</td>\n",
       "      <td>0</td>\n",
       "      <td>11</td>\n",
       "      <td>0.1590</td>\n",
       "      <td>0.26400</td>\n",
       "      <td>0.000003</td>\n",
       "      <td>0.0904</td>\n",
       "      <td>0.77900</td>\n",
       "      <td>110.962</td>\n",
       "      <td>237893</td>\n",
       "      <td>True</td>\n",
       "    </tr>\n",
       "    <tr>\n",
       "      <th>17</th>\n",
       "      <td>Buttercup</td>\n",
       "      <td>Jack Stauber</td>\n",
       "      <td>0.7050</td>\n",
       "      <td>0.37300</td>\n",
       "      <td>-9.066</td>\n",
       "      <td>1</td>\n",
       "      <td>7</td>\n",
       "      <td>0.0384</td>\n",
       "      <td>0.72300</td>\n",
       "      <td>0.810000</td>\n",
       "      <td>0.2890</td>\n",
       "      <td>0.55100</td>\n",
       "      <td>120.046</td>\n",
       "      <td>208026</td>\n",
       "      <td>True</td>\n",
       "    </tr>\n",
       "    <tr>\n",
       "      <th>18</th>\n",
       "      <td>Dissolve</td>\n",
       "      <td>Absofacto</td>\n",
       "      <td>0.6880</td>\n",
       "      <td>0.58200</td>\n",
       "      <td>-10.668</td>\n",
       "      <td>0</td>\n",
       "      <td>6</td>\n",
       "      <td>0.0542</td>\n",
       "      <td>0.23000</td>\n",
       "      <td>0.000157</td>\n",
       "      <td>0.0663</td>\n",
       "      <td>0.87200</td>\n",
       "      <td>85.486</td>\n",
       "      <td>224661</td>\n",
       "      <td>True</td>\n",
       "    </tr>\n",
       "    <tr>\n",
       "      <th>20</th>\n",
       "      <td>Airplane Mode</td>\n",
       "      <td>Limbo</td>\n",
       "      <td>0.6650</td>\n",
       "      <td>0.37300</td>\n",
       "      <td>-10.631</td>\n",
       "      <td>1</td>\n",
       "      <td>7</td>\n",
       "      <td>0.1580</td>\n",
       "      <td>0.85200</td>\n",
       "      <td>0.118000</td>\n",
       "      <td>0.1080</td>\n",
       "      <td>0.07000</td>\n",
       "      <td>119.905</td>\n",
       "      <td>164113</td>\n",
       "      <td>True</td>\n",
       "    </tr>\n",
       "    <tr>\n",
       "      <th>...</th>\n",
       "      <td>...</td>\n",
       "      <td>...</td>\n",
       "      <td>...</td>\n",
       "      <td>...</td>\n",
       "      <td>...</td>\n",
       "      <td>...</td>\n",
       "      <td>...</td>\n",
       "      <td>...</td>\n",
       "      <td>...</td>\n",
       "      <td>...</td>\n",
       "      <td>...</td>\n",
       "      <td>...</td>\n",
       "      <td>...</td>\n",
       "      <td>...</td>\n",
       "      <td>...</td>\n",
       "    </tr>\n",
       "    <tr>\n",
       "      <th>9437</th>\n",
       "      <td>Whispering Waves</td>\n",
       "      <td>Sleep Waves</td>\n",
       "      <td>0.2050</td>\n",
       "      <td>0.00801</td>\n",
       "      <td>-23.200</td>\n",
       "      <td>1</td>\n",
       "      <td>0</td>\n",
       "      <td>0.0511</td>\n",
       "      <td>0.62800</td>\n",
       "      <td>0.869000</td>\n",
       "      <td>0.1220</td>\n",
       "      <td>0.03110</td>\n",
       "      <td>128.145</td>\n",
       "      <td>179878</td>\n",
       "      <td>False</td>\n",
       "    </tr>\n",
       "    <tr>\n",
       "      <th>9439</th>\n",
       "      <td>Steady River Flow</td>\n",
       "      <td>Water Soundscapes</td>\n",
       "      <td>0.1060</td>\n",
       "      <td>0.00214</td>\n",
       "      <td>-21.715</td>\n",
       "      <td>1</td>\n",
       "      <td>1</td>\n",
       "      <td>0.0526</td>\n",
       "      <td>0.12200</td>\n",
       "      <td>0.287000</td>\n",
       "      <td>0.1120</td>\n",
       "      <td>0.02690</td>\n",
       "      <td>93.350</td>\n",
       "      <td>199647</td>\n",
       "      <td>False</td>\n",
       "    </tr>\n",
       "    <tr>\n",
       "      <th>9440</th>\n",
       "      <td>Meandering River</td>\n",
       "      <td>Ocean Waves For Sleep</td>\n",
       "      <td>0.1560</td>\n",
       "      <td>1.00000</td>\n",
       "      <td>-20.650</td>\n",
       "      <td>1</td>\n",
       "      <td>7</td>\n",
       "      <td>0.0585</td>\n",
       "      <td>0.84800</td>\n",
       "      <td>0.380000</td>\n",
       "      <td>0.9450</td>\n",
       "      <td>0.00001</td>\n",
       "      <td>108.253</td>\n",
       "      <td>244413</td>\n",
       "      <td>False</td>\n",
       "    </tr>\n",
       "    <tr>\n",
       "      <th>9441</th>\n",
       "      <td>Tanquil Lake Shores</td>\n",
       "      <td>Ocean Waves For Sleep</td>\n",
       "      <td>0.0786</td>\n",
       "      <td>0.07260</td>\n",
       "      <td>-21.645</td>\n",
       "      <td>1</td>\n",
       "      <td>10</td>\n",
       "      <td>0.0508</td>\n",
       "      <td>0.06480</td>\n",
       "      <td>0.681000</td>\n",
       "      <td>0.0888</td>\n",
       "      <td>0.02070</td>\n",
       "      <td>176.989</td>\n",
       "      <td>153030</td>\n",
       "      <td>False</td>\n",
       "    </tr>\n",
       "    <tr>\n",
       "      <th>9442</th>\n",
       "      <td>Gentle Waves on a Quiet Beach</td>\n",
       "      <td>Ocean Waves For Sleep</td>\n",
       "      <td>0.1280</td>\n",
       "      <td>0.46400</td>\n",
       "      <td>-31.245</td>\n",
       "      <td>1</td>\n",
       "      <td>1</td>\n",
       "      <td>0.5120</td>\n",
       "      <td>0.00218</td>\n",
       "      <td>0.000028</td>\n",
       "      <td>0.8750</td>\n",
       "      <td>0.03000</td>\n",
       "      <td>97.215</td>\n",
       "      <td>100612</td>\n",
       "      <td>False</td>\n",
       "    </tr>\n",
       "  </tbody>\n",
       "</table>\n",
       "<p>137 rows × 15 columns</p>\n",
       "</div>"
      ],
      "text/plain": [
       "                         track_name            artist_name  danceability  \\\n",
       "187                        It's You              Ali Gatie        0.7320   \n",
       "0                            Say So               Doja Cat        0.7870   \n",
       "17                        Buttercup           Jack Stauber        0.7050   \n",
       "18                         Dissolve              Absofacto        0.6880   \n",
       "20                    Airplane Mode                  Limbo        0.6650   \n",
       "...                             ...                    ...           ...   \n",
       "9437               Whispering Waves            Sleep Waves        0.2050   \n",
       "9439              Steady River Flow      Water Soundscapes        0.1060   \n",
       "9440               Meandering River  Ocean Waves For Sleep        0.1560   \n",
       "9441            Tanquil Lake Shores  Ocean Waves For Sleep        0.0786   \n",
       "9442  Gentle Waves on a Quiet Beach  Ocean Waves For Sleep        0.1280   \n",
       "\n",
       "       energy  loudness  mode  key  speechiness  acousticness  \\\n",
       "187   0.46300    -6.972     0   11       0.0287       0.37400   \n",
       "0     0.67300    -4.583     0   11       0.1590       0.26400   \n",
       "17    0.37300    -9.066     1    7       0.0384       0.72300   \n",
       "18    0.58200   -10.668     0    6       0.0542       0.23000   \n",
       "20    0.37300   -10.631     1    7       0.1580       0.85200   \n",
       "...       ...       ...   ...  ...          ...           ...   \n",
       "9437  0.00801   -23.200     1    0       0.0511       0.62800   \n",
       "9439  0.00214   -21.715     1    1       0.0526       0.12200   \n",
       "9440  1.00000   -20.650     1    7       0.0585       0.84800   \n",
       "9441  0.07260   -21.645     1   10       0.0508       0.06480   \n",
       "9442  0.46400   -31.245     1    1       0.5120       0.00218   \n",
       "\n",
       "      instrumentalness  liveness  valence    tempo  duration_ms  is_popular  \n",
       "187           0.000000    0.1940  0.39700   95.971       212607        True  \n",
       "0             0.000003    0.0904  0.77900  110.962       237893        True  \n",
       "17            0.810000    0.2890  0.55100  120.046       208026        True  \n",
       "18            0.000157    0.0663  0.87200   85.486       224661        True  \n",
       "20            0.118000    0.1080  0.07000  119.905       164113        True  \n",
       "...                ...       ...      ...      ...          ...         ...  \n",
       "9437          0.869000    0.1220  0.03110  128.145       179878       False  \n",
       "9439          0.287000    0.1120  0.02690   93.350       199647       False  \n",
       "9440          0.380000    0.9450  0.00001  108.253       244413       False  \n",
       "9441          0.681000    0.0888  0.02070  176.989       153030       False  \n",
       "9442          0.000028    0.8750  0.03000   97.215       100612       False  \n",
       "\n",
       "[137 rows x 15 columns]"
      ]
     },
     "execution_count": 15,
     "metadata": {},
     "output_type": "execute_result"
    }
   ],
   "source": [
    "# Check for duplicate data\n",
    "combined_df[combined_df.duplicated()]"
   ]
  },
  {
   "cell_type": "code",
   "execution_count": 16,
   "metadata": {},
   "outputs": [
    {
     "data": {
      "text/html": [
       "<div>\n",
       "<style scoped>\n",
       "    .dataframe tbody tr th:only-of-type {\n",
       "        vertical-align: middle;\n",
       "    }\n",
       "\n",
       "    .dataframe tbody tr th {\n",
       "        vertical-align: top;\n",
       "    }\n",
       "\n",
       "    .dataframe thead th {\n",
       "        text-align: right;\n",
       "    }\n",
       "</style>\n",
       "<table border=\"1\" class=\"dataframe\">\n",
       "  <thead>\n",
       "    <tr style=\"text-align: right;\">\n",
       "      <th></th>\n",
       "      <th>track_name</th>\n",
       "      <th>artist_name</th>\n",
       "      <th>artist_pop</th>\n",
       "      <th>album</th>\n",
       "      <th>track_pop</th>\n",
       "      <th>danceability</th>\n",
       "      <th>energy</th>\n",
       "      <th>loudness</th>\n",
       "      <th>mode</th>\n",
       "      <th>key</th>\n",
       "      <th>speechiness</th>\n",
       "      <th>acousticness</th>\n",
       "      <th>instrumentalness</th>\n",
       "      <th>liveness</th>\n",
       "      <th>valence</th>\n",
       "      <th>tempo</th>\n",
       "      <th>time_signature</th>\n",
       "      <th>duration_ms</th>\n",
       "      <th>is_popular</th>\n",
       "    </tr>\n",
       "  </thead>\n",
       "  <tbody>\n",
       "    <tr>\n",
       "      <th>73</th>\n",
       "      <td>It's You</td>\n",
       "      <td>Ali Gatie</td>\n",
       "      <td>70</td>\n",
       "      <td>YOU</td>\n",
       "      <td>79</td>\n",
       "      <td>0.732</td>\n",
       "      <td>0.463</td>\n",
       "      <td>-6.972</td>\n",
       "      <td>0</td>\n",
       "      <td>11</td>\n",
       "      <td>0.0287</td>\n",
       "      <td>0.374</td>\n",
       "      <td>0.0</td>\n",
       "      <td>0.194</td>\n",
       "      <td>0.397</td>\n",
       "      <td>95.971</td>\n",
       "      <td>4</td>\n",
       "      <td>212607</td>\n",
       "      <td>True</td>\n",
       "    </tr>\n",
       "    <tr>\n",
       "      <th>187</th>\n",
       "      <td>It's You</td>\n",
       "      <td>Ali Gatie</td>\n",
       "      <td>70</td>\n",
       "      <td>It's You</td>\n",
       "      <td>5</td>\n",
       "      <td>0.732</td>\n",
       "      <td>0.463</td>\n",
       "      <td>-6.972</td>\n",
       "      <td>0</td>\n",
       "      <td>11</td>\n",
       "      <td>0.0287</td>\n",
       "      <td>0.374</td>\n",
       "      <td>0.0</td>\n",
       "      <td>0.194</td>\n",
       "      <td>0.397</td>\n",
       "      <td>95.971</td>\n",
       "      <td>4</td>\n",
       "      <td>212607</td>\n",
       "      <td>True</td>\n",
       "    </tr>\n",
       "  </tbody>\n",
       "</table>\n",
       "</div>"
      ],
      "text/plain": [
       "    track_name artist_name  artist_pop     album  track_pop  danceability  \\\n",
       "73    It's You   Ali Gatie          70       YOU         79         0.732   \n",
       "187   It's You   Ali Gatie          70  It's You          5         0.732   \n",
       "\n",
       "     energy  loudness  mode  key  speechiness  acousticness  instrumentalness  \\\n",
       "73    0.463    -6.972     0   11       0.0287         0.374               0.0   \n",
       "187   0.463    -6.972     0   11       0.0287         0.374               0.0   \n",
       "\n",
       "     liveness  valence   tempo  time_signature  duration_ms  is_popular  \n",
       "73      0.194    0.397  95.971               4       212607        True  \n",
       "187     0.194    0.397  95.971               4       212607        True  "
      ]
     },
     "execution_count": 16,
     "metadata": {},
     "output_type": "execute_result"
    }
   ],
   "source": [
    "# Some duplicates are caused by the same song in different albums (be dropped)\n",
    "songs_2019[songs_2019['track_name'] == \"It's You\"]"
   ]
  },
  {
   "cell_type": "code",
   "execution_count": 17,
   "metadata": {},
   "outputs": [
    {
     "data": {
      "text/html": [
       "<div>\n",
       "<style scoped>\n",
       "    .dataframe tbody tr th:only-of-type {\n",
       "        vertical-align: middle;\n",
       "    }\n",
       "\n",
       "    .dataframe tbody tr th {\n",
       "        vertical-align: top;\n",
       "    }\n",
       "\n",
       "    .dataframe thead th {\n",
       "        text-align: right;\n",
       "    }\n",
       "</style>\n",
       "<table border=\"1\" class=\"dataframe\">\n",
       "  <thead>\n",
       "    <tr style=\"text-align: right;\">\n",
       "      <th></th>\n",
       "      <th>track_name</th>\n",
       "      <th>artist_name</th>\n",
       "      <th>danceability</th>\n",
       "      <th>energy</th>\n",
       "      <th>loudness</th>\n",
       "      <th>mode</th>\n",
       "      <th>key</th>\n",
       "      <th>speechiness</th>\n",
       "      <th>acousticness</th>\n",
       "      <th>instrumentalness</th>\n",
       "      <th>liveness</th>\n",
       "      <th>valence</th>\n",
       "      <th>tempo</th>\n",
       "      <th>duration_ms</th>\n",
       "      <th>is_popular</th>\n",
       "    </tr>\n",
       "  </thead>\n",
       "  <tbody>\n",
       "    <tr>\n",
       "      <th>2883</th>\n",
       "      <td>Whispering Waves</td>\n",
       "      <td>Sleep Waves</td>\n",
       "      <td>0.205</td>\n",
       "      <td>0.00801</td>\n",
       "      <td>-23.2</td>\n",
       "      <td>1</td>\n",
       "      <td>0</td>\n",
       "      <td>0.0511</td>\n",
       "      <td>0.628</td>\n",
       "      <td>0.869</td>\n",
       "      <td>0.122</td>\n",
       "      <td>0.0311</td>\n",
       "      <td>128.145</td>\n",
       "      <td>179878</td>\n",
       "      <td>False</td>\n",
       "    </tr>\n",
       "    <tr>\n",
       "      <th>9437</th>\n",
       "      <td>Whispering Waves</td>\n",
       "      <td>Sleep Waves</td>\n",
       "      <td>0.205</td>\n",
       "      <td>0.00801</td>\n",
       "      <td>-23.2</td>\n",
       "      <td>1</td>\n",
       "      <td>0</td>\n",
       "      <td>0.0511</td>\n",
       "      <td>0.628</td>\n",
       "      <td>0.869</td>\n",
       "      <td>0.122</td>\n",
       "      <td>0.0311</td>\n",
       "      <td>128.145</td>\n",
       "      <td>179878</td>\n",
       "      <td>False</td>\n",
       "    </tr>\n",
       "  </tbody>\n",
       "</table>\n",
       "</div>"
      ],
      "text/plain": [
       "            track_name  artist_name  danceability   energy  loudness  mode  \\\n",
       "2883  Whispering Waves  Sleep Waves         0.205  0.00801     -23.2     1   \n",
       "9437  Whispering Waves  Sleep Waves         0.205  0.00801     -23.2     1   \n",
       "\n",
       "      key  speechiness  acousticness  instrumentalness  liveness  valence  \\\n",
       "2883    0       0.0511         0.628             0.869     0.122   0.0311   \n",
       "9437    0       0.0511         0.628             0.869     0.122   0.0311   \n",
       "\n",
       "        tempo  duration_ms  is_popular  \n",
       "2883  128.145       179878       False  \n",
       "9437  128.145       179878       False  "
      ]
     },
     "execution_count": 17,
     "metadata": {},
     "output_type": "execute_result"
    }
   ],
   "source": [
    "# Duplicates are caused by different IDs in the unpopular songs dataset (can also be dropped)\n",
    "combined_df[combined_df['track_name'] == 'Whispering Waves']"
   ]
  },
  {
   "cell_type": "code",
   "execution_count": 18,
   "metadata": {},
   "outputs": [
    {
     "data": {
      "text/html": [
       "<div>\n",
       "<style scoped>\n",
       "    .dataframe tbody tr th:only-of-type {\n",
       "        vertical-align: middle;\n",
       "    }\n",
       "\n",
       "    .dataframe tbody tr th {\n",
       "        vertical-align: top;\n",
       "    }\n",
       "\n",
       "    .dataframe thead th {\n",
       "        text-align: right;\n",
       "    }\n",
       "</style>\n",
       "<table border=\"1\" class=\"dataframe\">\n",
       "  <thead>\n",
       "    <tr style=\"text-align: right;\">\n",
       "      <th></th>\n",
       "      <th>track_name</th>\n",
       "      <th>artist_name</th>\n",
       "      <th>danceability</th>\n",
       "      <th>energy</th>\n",
       "      <th>loudness</th>\n",
       "      <th>mode</th>\n",
       "      <th>key</th>\n",
       "      <th>speechiness</th>\n",
       "      <th>acousticness</th>\n",
       "      <th>instrumentalness</th>\n",
       "      <th>liveness</th>\n",
       "      <th>valence</th>\n",
       "      <th>tempo</th>\n",
       "      <th>duration_ms</th>\n",
       "      <th>is_popular</th>\n",
       "    </tr>\n",
       "  </thead>\n",
       "  <tbody>\n",
       "    <tr>\n",
       "      <th>0</th>\n",
       "      <td>Shake It</td>\n",
       "      <td>Metro Station</td>\n",
       "      <td>0.618</td>\n",
       "      <td>0.9550</td>\n",
       "      <td>-3.836</td>\n",
       "      <td>1</td>\n",
       "      <td>4</td>\n",
       "      <td>0.0798</td>\n",
       "      <td>0.00221</td>\n",
       "      <td>0.000003</td>\n",
       "      <td>0.486</td>\n",
       "      <td>0.7900</td>\n",
       "      <td>150.034</td>\n",
       "      <td>179947</td>\n",
       "      <td>True</td>\n",
       "    </tr>\n",
       "    <tr>\n",
       "      <th>1</th>\n",
       "      <td>Chinese New Year</td>\n",
       "      <td>SALES</td>\n",
       "      <td>0.744</td>\n",
       "      <td>0.8450</td>\n",
       "      <td>-7.422</td>\n",
       "      <td>0</td>\n",
       "      <td>4</td>\n",
       "      <td>0.2530</td>\n",
       "      <td>0.75900</td>\n",
       "      <td>0.232000</td>\n",
       "      <td>0.100</td>\n",
       "      <td>0.7490</td>\n",
       "      <td>75.221</td>\n",
       "      <td>160000</td>\n",
       "      <td>True</td>\n",
       "    </tr>\n",
       "    <tr>\n",
       "      <th>2</th>\n",
       "      <td>Baby I'm Yours</td>\n",
       "      <td>Breakbot</td>\n",
       "      <td>0.829</td>\n",
       "      <td>0.7920</td>\n",
       "      <td>-3.755</td>\n",
       "      <td>0</td>\n",
       "      <td>2</td>\n",
       "      <td>0.0668</td>\n",
       "      <td>0.72600</td>\n",
       "      <td>0.000006</td>\n",
       "      <td>0.122</td>\n",
       "      <td>0.7580</td>\n",
       "      <td>118.050</td>\n",
       "      <td>215507</td>\n",
       "      <td>True</td>\n",
       "    </tr>\n",
       "    <tr>\n",
       "      <th>3</th>\n",
       "      <td>The Git Up</td>\n",
       "      <td>Blanco Brown</td>\n",
       "      <td>0.847</td>\n",
       "      <td>0.6780</td>\n",
       "      <td>-8.635</td>\n",
       "      <td>1</td>\n",
       "      <td>9</td>\n",
       "      <td>0.1090</td>\n",
       "      <td>0.06690</td>\n",
       "      <td>0.000000</td>\n",
       "      <td>0.274</td>\n",
       "      <td>0.8110</td>\n",
       "      <td>97.984</td>\n",
       "      <td>200594</td>\n",
       "      <td>True</td>\n",
       "    </tr>\n",
       "    <tr>\n",
       "      <th>4</th>\n",
       "      <td>Say Hey (I Love You)</td>\n",
       "      <td>Michael Franti &amp; Spearhead</td>\n",
       "      <td>0.738</td>\n",
       "      <td>0.9830</td>\n",
       "      <td>-4.374</td>\n",
       "      <td>0</td>\n",
       "      <td>5</td>\n",
       "      <td>0.0855</td>\n",
       "      <td>0.03800</td>\n",
       "      <td>0.000006</td>\n",
       "      <td>0.183</td>\n",
       "      <td>0.9570</td>\n",
       "      <td>92.998</td>\n",
       "      <td>235760</td>\n",
       "      <td>True</td>\n",
       "    </tr>\n",
       "    <tr>\n",
       "      <th>...</th>\n",
       "      <td>...</td>\n",
       "      <td>...</td>\n",
       "      <td>...</td>\n",
       "      <td>...</td>\n",
       "      <td>...</td>\n",
       "      <td>...</td>\n",
       "      <td>...</td>\n",
       "      <td>...</td>\n",
       "      <td>...</td>\n",
       "      <td>...</td>\n",
       "      <td>...</td>\n",
       "      <td>...</td>\n",
       "      <td>...</td>\n",
       "      <td>...</td>\n",
       "      <td>...</td>\n",
       "    </tr>\n",
       "    <tr>\n",
       "      <th>10872</th>\n",
       "      <td>Bugs n Toes</td>\n",
       "      <td>Good Girl, Bad Boy</td>\n",
       "      <td>0.686</td>\n",
       "      <td>0.1320</td>\n",
       "      <td>-20.363</td>\n",
       "      <td>1</td>\n",
       "      <td>0</td>\n",
       "      <td>0.0339</td>\n",
       "      <td>0.26800</td>\n",
       "      <td>0.001050</td>\n",
       "      <td>0.181</td>\n",
       "      <td>0.4910</td>\n",
       "      <td>95.987</td>\n",
       "      <td>285286</td>\n",
       "      <td>False</td>\n",
       "    </tr>\n",
       "    <tr>\n",
       "      <th>10873</th>\n",
       "      <td>Scattered Thoughts</td>\n",
       "      <td>Good Girl, Bad Boy</td>\n",
       "      <td>0.532</td>\n",
       "      <td>0.0573</td>\n",
       "      <td>-20.476</td>\n",
       "      <td>0</td>\n",
       "      <td>11</td>\n",
       "      <td>0.0479</td>\n",
       "      <td>0.90000</td>\n",
       "      <td>0.087700</td>\n",
       "      <td>0.111</td>\n",
       "      <td>0.0731</td>\n",
       "      <td>114.123</td>\n",
       "      <td>360729</td>\n",
       "      <td>False</td>\n",
       "    </tr>\n",
       "    <tr>\n",
       "      <th>10874</th>\n",
       "      <td>Travelin Bug</td>\n",
       "      <td>Good Girl, Bad Boy</td>\n",
       "      <td>0.589</td>\n",
       "      <td>0.0308</td>\n",
       "      <td>-27.237</td>\n",
       "      <td>1</td>\n",
       "      <td>3</td>\n",
       "      <td>0.0405</td>\n",
       "      <td>0.94300</td>\n",
       "      <td>0.014200</td>\n",
       "      <td>0.106</td>\n",
       "      <td>0.5040</td>\n",
       "      <td>83.952</td>\n",
       "      <td>286585</td>\n",
       "      <td>False</td>\n",
       "    </tr>\n",
       "    <tr>\n",
       "      <th>10875</th>\n",
       "      <td>Goodnight</td>\n",
       "      <td>Good Girl, Bad Boy</td>\n",
       "      <td>0.669</td>\n",
       "      <td>0.0381</td>\n",
       "      <td>-18.631</td>\n",
       "      <td>1</td>\n",
       "      <td>7</td>\n",
       "      <td>0.0382</td>\n",
       "      <td>0.78300</td>\n",
       "      <td>0.000000</td>\n",
       "      <td>0.182</td>\n",
       "      <td>0.1730</td>\n",
       "      <td>99.841</td>\n",
       "      <td>349454</td>\n",
       "      <td>False</td>\n",
       "    </tr>\n",
       "    <tr>\n",
       "      <th>10876</th>\n",
       "      <td>Paranoid</td>\n",
       "      <td>Talen Talea</td>\n",
       "      <td>0.818</td>\n",
       "      <td>0.1460</td>\n",
       "      <td>-19.684</td>\n",
       "      <td>0</td>\n",
       "      <td>9</td>\n",
       "      <td>0.1230</td>\n",
       "      <td>0.82800</td>\n",
       "      <td>0.959000</td>\n",
       "      <td>0.108</td>\n",
       "      <td>0.2350</td>\n",
       "      <td>110.026</td>\n",
       "      <td>74180</td>\n",
       "      <td>False</td>\n",
       "    </tr>\n",
       "  </tbody>\n",
       "</table>\n",
       "<p>11708 rows × 15 columns</p>\n",
       "</div>"
      ],
      "text/plain": [
       "                 track_name                 artist_name  danceability  energy  \\\n",
       "0                  Shake It               Metro Station         0.618  0.9550   \n",
       "1          Chinese New Year                       SALES         0.744  0.8450   \n",
       "2            Baby I'm Yours                    Breakbot         0.829  0.7920   \n",
       "3                The Git Up                Blanco Brown         0.847  0.6780   \n",
       "4      Say Hey (I Love You)  Michael Franti & Spearhead         0.738  0.9830   \n",
       "...                     ...                         ...           ...     ...   \n",
       "10872           Bugs n Toes          Good Girl, Bad Boy         0.686  0.1320   \n",
       "10873    Scattered Thoughts          Good Girl, Bad Boy         0.532  0.0573   \n",
       "10874          Travelin Bug          Good Girl, Bad Boy         0.589  0.0308   \n",
       "10875             Goodnight          Good Girl, Bad Boy         0.669  0.0381   \n",
       "10876              Paranoid                 Talen Talea         0.818  0.1460   \n",
       "\n",
       "       loudness  mode  key  speechiness  acousticness  instrumentalness  \\\n",
       "0        -3.836     1    4       0.0798       0.00221          0.000003   \n",
       "1        -7.422     0    4       0.2530       0.75900          0.232000   \n",
       "2        -3.755     0    2       0.0668       0.72600          0.000006   \n",
       "3        -8.635     1    9       0.1090       0.06690          0.000000   \n",
       "4        -4.374     0    5       0.0855       0.03800          0.000006   \n",
       "...         ...   ...  ...          ...           ...               ...   \n",
       "10872   -20.363     1    0       0.0339       0.26800          0.001050   \n",
       "10873   -20.476     0   11       0.0479       0.90000          0.087700   \n",
       "10874   -27.237     1    3       0.0405       0.94300          0.014200   \n",
       "10875   -18.631     1    7       0.0382       0.78300          0.000000   \n",
       "10876   -19.684     0    9       0.1230       0.82800          0.959000   \n",
       "\n",
       "       liveness  valence    tempo  duration_ms  is_popular  \n",
       "0         0.486   0.7900  150.034       179947        True  \n",
       "1         0.100   0.7490   75.221       160000        True  \n",
       "2         0.122   0.7580  118.050       215507        True  \n",
       "3         0.274   0.8110   97.984       200594        True  \n",
       "4         0.183   0.9570   92.998       235760        True  \n",
       "...         ...      ...      ...          ...         ...  \n",
       "10872     0.181   0.4910   95.987       285286       False  \n",
       "10873     0.111   0.0731  114.123       360729       False  \n",
       "10874     0.106   0.5040   83.952       286585       False  \n",
       "10875     0.182   0.1730   99.841       349454       False  \n",
       "10876     0.108   0.2350  110.026        74180       False  \n",
       "\n",
       "[11708 rows x 15 columns]"
      ]
     },
     "execution_count": 18,
     "metadata": {},
     "output_type": "execute_result"
    }
   ],
   "source": [
    "# Actually remove the duplicates\n",
    "combined_df.drop_duplicates()"
   ]
  },
  {
   "cell_type": "markdown",
   "metadata": {},
   "source": [
    "### 1.5 Encode variables?"
   ]
  },
  {
   "cell_type": "code",
   "execution_count": 19,
   "metadata": {},
   "outputs": [],
   "source": [
    "# # key is categorical, so we can try encoding that\n",
    "# combined_df[\"key\"].value_counts()"
   ]
  },
  {
   "cell_type": "code",
   "execution_count": 20,
   "metadata": {},
   "outputs": [],
   "source": [
    "# # encode the \"key\" feature\n",
    "# one_hot = pd.get_dummies(combined_df['key'], prefix='key')\n",
    "\n",
    "# # drop the old column and add the new encoded ones\n",
    "# combined_df = combined_df.drop('key', axis=1)\n",
    "# combined_df = combined_df.join(one_hot)\n",
    "\n",
    "# combined_df.columns"
   ]
  },
  {
   "cell_type": "markdown",
   "metadata": {},
   "source": [
    "### 2. Split data into training, validation, and testing"
   ]
  },
  {
   "cell_type": "code",
   "execution_count": 21,
   "metadata": {},
   "outputs": [
    {
     "data": {
      "text/plain": [
       "Index(['track_name', 'artist_name', 'danceability', 'energy', 'loudness',\n",
       "       'mode', 'key', 'speechiness', 'acousticness', 'instrumentalness',\n",
       "       'liveness', 'valence', 'tempo', 'duration_ms'],\n",
       "      dtype='object')"
      ]
     },
     "execution_count": 21,
     "metadata": {},
     "output_type": "execute_result"
    }
   ],
   "source": [
    "# Get feature columns (everything except for the label)\n",
    "feature_cols = combined_df.columns[combined_df.columns != 'is_popular']\n",
    "feature_cols"
   ]
  },
  {
   "cell_type": "code",
   "execution_count": 22,
   "metadata": {},
   "outputs": [
    {
     "name": "stdout",
     "output_type": "stream",
     "text": [
      "(11845, 14)\n",
      "(11845,)\n"
     ]
    }
   ],
   "source": [
    "X = combined_df[feature_cols]\n",
    "y = combined_df['is_popular']\n",
    "\n",
    "print(X.shape)\n",
    "print(y.shape)"
   ]
  },
  {
   "cell_type": "code",
   "execution_count": 23,
   "metadata": {},
   "outputs": [],
   "source": [
    "# split into training and testing datasets\n",
    "# we will use a 60/20/20 split for training, validation, and testing\n",
    "from sklearn.model_selection import train_test_split\n",
    "\n",
    "X_training, X_final_test, y_training, y_final_test = train_test_split(X, y, test_size=0.2, random_state=6)"
   ]
  },
  {
   "cell_type": "code",
   "execution_count": 24,
   "metadata": {},
   "outputs": [],
   "source": [
    "# this is what we will train with\n",
    "X_train, X_test, y_train, y_test = train_test_split(X_training, y_training, test_size=0.25, random_state=6)"
   ]
  },
  {
   "cell_type": "markdown",
   "metadata": {},
   "source": [
    "### 3. KNN models\n",
    "- Try running KNN models on our new dataset (we try to classify the data into \"popular\" and \"unpopular\")"
   ]
  },
  {
   "cell_type": "code",
   "execution_count": 25,
   "metadata": {},
   "outputs": [],
   "source": [
    "# these are the columns we'll use for training (they're all numerical)\n",
    "training_cols = list(feature_cols)\n",
    "training_cols.remove('track_name')\n",
    "training_cols.remove('artist_name')\n",
    "\n",
    "X_train = X_train[training_cols]\n",
    "X_test = X_test[training_cols]\n",
    "X_final_test = X_final_test[training_cols]"
   ]
  },
  {
   "cell_type": "code",
   "execution_count": 26,
   "metadata": {},
   "outputs": [
    {
     "name": "stdout",
     "output_type": "stream",
     "text": [
      "[KNeighborsClassifier(n_neighbors=1), KNeighborsClassifier(n_neighbors=3), KNeighborsClassifier(), KNeighborsClassifier(n_neighbors=7), KNeighborsClassifier(n_neighbors=11), KNeighborsClassifier(n_neighbors=15), KNeighborsClassifier(n_neighbors=25), KNeighborsClassifier(n_neighbors=50), KNeighborsClassifier(n_neighbors=75)]\n"
     ]
    }
   ],
   "source": [
    "from sklearn.neighbors import KNeighborsClassifier\n",
    "\n",
    "# let's try a variety of k's\n",
    "k_list = [1, 3, 5, 7, 11, 15, 25, 50, 75]\n",
    "models = []\n",
    "\n",
    "for k in k_list:\n",
    "    # instantiate a KNeighborsClassifier and train a KNN on the data\n",
    "    knn_model = KNeighborsClassifier(n_neighbors=k)\n",
    "    knn_model.fit(X_train, y_train)\n",
    "\n",
    "    # save each model to a list\n",
    "    models.append(knn_model)\n",
    "\n",
    "\n",
    "print(models)"
   ]
  },
  {
   "cell_type": "code",
   "execution_count": 27,
   "metadata": {},
   "outputs": [
    {
     "name": "stdout",
     "output_type": "stream",
     "text": [
      "k value: 1 \tAccuracy: 0.871\n",
      "k value: 3 \tAccuracy: 0.895\n",
      "k value: 5 \tAccuracy: 0.907\n",
      "k value: 7 \tAccuracy: 0.916\n",
      "k value: 11 \tAccuracy: 0.921\n",
      "k value: 15 \tAccuracy: 0.921\n",
      "k value: 25 \tAccuracy: 0.921\n",
      "k value: 50 \tAccuracy: 0.921\n",
      "k value: 75 \tAccuracy: 0.921\n"
     ]
    }
   ],
   "source": [
    "from sklearn.metrics import accuracy_score\n",
    "\n",
    "# test the accuracy of all our models\n",
    "for model, k in zip(models, k_list):\n",
    "    # try making prediction with each model\n",
    "    y_predict = model.predict(X_test)\n",
    "\n",
    "    # get the accuracy score\n",
    "    accuracy = accuracy_score(y_test, y_predict)\n",
    "\n",
    "    # print the k value and the accuracy for each model\n",
    "    print(f'k value: {k} \\tAccuracy: {round(accuracy, 3)}')\n",
    "    "
   ]
  },
  {
   "cell_type": "code",
   "execution_count": 28,
   "metadata": {},
   "outputs": [
    {
     "name": "stdout",
     "output_type": "stream",
     "text": [
      "KNN model accuracy (validation): 0.921\n",
      "KNN model accuracy (testing): 0.918\n"
     ]
    }
   ],
   "source": [
    "final_knn_model = KNeighborsClassifier(n_neighbors=50)\n",
    "final_knn_model.fit(X_train, y_train)\n",
    "\n",
    "y_predict = final_knn_model.predict(X_final_test)\n",
    "accuracy_validation = accuracy_score(y_test, y_predict)\n",
    "accuracy_testing = accuracy_score(y_final_test, y_predict)\n",
    "\n",
    "print(f'KNN model accuracy (validation): {round(accuracy_validation, 3)}')\n",
    "print(f'KNN model accuracy (testing): {round(accuracy_testing, 3)}')"
   ]
  },
  {
   "cell_type": "code",
   "execution_count": 29,
   "metadata": {},
   "outputs": [],
   "source": [
    "def printGridResults(grid_search):\n",
    "    print(\"Best parameter set found: \\n\")\n",
    "    print(grid_search.best_params_)\n",
    "\n",
    "    print(\"\\nScores on train set:\\n\")\n",
    "    means = grid_search.cv_results_['mean_test_score']\n",
    "    stds = grid_search.cv_results_['std_test_score']\n",
    "    for mean, std, params in zip(means, stds, grid_search.cv_results_['params']):\n",
    "        print(\"%0.3f (2*std = %0.03f) for %r\"\n",
    "                % (mean, std * 2, params))"
   ]
  },
  {
   "cell_type": "code",
   "execution_count": 30,
   "metadata": {},
   "outputs": [
    {
     "name": "stdout",
     "output_type": "stream",
     "text": [
      "Fitting 3 folds for each of 48 candidates, totalling 144 fits\n"
     ]
    },
    {
     "name": "stderr",
     "output_type": "stream",
     "text": [
      "c:\\Users\\fcarras\\Anaconda3\\lib\\site-packages\\sklearn\\model_selection\\_validation.py:372: FitFailedWarning: \n",
      "72 fits failed out of a total of 144.\n",
      "The score on these train-test partitions for these parameters will be set to nan.\n",
      "If these failures are not expected, you can try to debug them by setting error_score='raise'.\n",
      "\n",
      "Below are more details about the failures:\n",
      "--------------------------------------------------------------------------------\n",
      "24 fits failed with the following error:\n",
      "Traceback (most recent call last):\n",
      "  File \"c:\\Users\\fcarras\\Anaconda3\\lib\\site-packages\\sklearn\\model_selection\\_validation.py\", line 680, in _fit_and_score\n",
      "    estimator.fit(X_train, y_train, **fit_params)\n",
      "  File \"c:\\Users\\fcarras\\Anaconda3\\lib\\site-packages\\sklearn\\neighbors\\_classification.py\", line 198, in fit\n",
      "    return self._fit(X, y)\n",
      "  File \"c:\\Users\\fcarras\\Anaconda3\\lib\\site-packages\\sklearn\\neighbors\\_base.py\", line 437, in _fit\n",
      "    self._check_algorithm_metric()\n",
      "  File \"c:\\Users\\fcarras\\Anaconda3\\lib\\site-packages\\sklearn\\neighbors\\_base.py\", line 374, in _check_algorithm_metric\n",
      "    raise ValueError(\n",
      "ValueError: Metric 'euclidian' not valid. Use sorted(sklearn.neighbors.VALID_METRICS['brute']) to get valid options. Metric can also be a callable function.\n",
      "\n",
      "--------------------------------------------------------------------------------\n",
      "24 fits failed with the following error:\n",
      "Traceback (most recent call last):\n",
      "  File \"c:\\Users\\fcarras\\Anaconda3\\lib\\site-packages\\sklearn\\model_selection\\_validation.py\", line 680, in _fit_and_score\n",
      "    estimator.fit(X_train, y_train, **fit_params)\n",
      "  File \"c:\\Users\\fcarras\\Anaconda3\\lib\\site-packages\\sklearn\\neighbors\\_classification.py\", line 198, in fit\n",
      "    return self._fit(X, y)\n",
      "  File \"c:\\Users\\fcarras\\Anaconda3\\lib\\site-packages\\sklearn\\neighbors\\_base.py\", line 437, in _fit\n",
      "    self._check_algorithm_metric()\n",
      "  File \"c:\\Users\\fcarras\\Anaconda3\\lib\\site-packages\\sklearn\\neighbors\\_base.py\", line 374, in _check_algorithm_metric\n",
      "    raise ValueError(\n",
      "ValueError: Metric 'euclidian' not valid. Use sorted(sklearn.neighbors.VALID_METRICS['ball_tree']) to get valid options. Metric can also be a callable function.\n",
      "\n",
      "--------------------------------------------------------------------------------\n",
      "24 fits failed with the following error:\n",
      "Traceback (most recent call last):\n",
      "  File \"c:\\Users\\fcarras\\Anaconda3\\lib\\site-packages\\sklearn\\model_selection\\_validation.py\", line 680, in _fit_and_score\n",
      "    estimator.fit(X_train, y_train, **fit_params)\n",
      "  File \"c:\\Users\\fcarras\\Anaconda3\\lib\\site-packages\\sklearn\\neighbors\\_classification.py\", line 198, in fit\n",
      "    return self._fit(X, y)\n",
      "  File \"c:\\Users\\fcarras\\Anaconda3\\lib\\site-packages\\sklearn\\neighbors\\_base.py\", line 437, in _fit\n",
      "    self._check_algorithm_metric()\n",
      "  File \"c:\\Users\\fcarras\\Anaconda3\\lib\\site-packages\\sklearn\\neighbors\\_base.py\", line 374, in _check_algorithm_metric\n",
      "    raise ValueError(\n",
      "ValueError: Metric 'euclidian' not valid. Use sorted(sklearn.neighbors.VALID_METRICS['kd_tree']) to get valid options. Metric can also be a callable function.\n",
      "\n",
      "  warnings.warn(some_fits_failed_message, FitFailedWarning)\n",
      "c:\\Users\\fcarras\\Anaconda3\\lib\\site-packages\\sklearn\\model_selection\\_search.py:969: UserWarning: One or more of the test scores are non-finite: [       nan        nan        nan        nan        nan        nan\n",
      "        nan        nan 0.91740537 0.92570705 0.91740537 0.92795835\n",
      " 0.91740537 0.92838047 0.91740537 0.92795835        nan        nan\n",
      "        nan        nan        nan        nan        nan        nan\n",
      " 0.91740537 0.92570705 0.91740537 0.92795835 0.91740537 0.92838047\n",
      " 0.91740537 0.92795835        nan        nan        nan        nan\n",
      "        nan        nan        nan        nan 0.91740537 0.92570705\n",
      " 0.91740537 0.92795835 0.91740537 0.92838047 0.91740537 0.92795835]\n",
      "  warnings.warn(\n"
     ]
    },
    {
     "data": {
      "text/plain": [
       "GridSearchCV(cv=3, estimator=KNeighborsClassifier(), n_jobs=-1,\n",
       "             param_grid={'algorithm': ['auto', 'ball_tree', 'kd_tree'],\n",
       "                         'metric': ['euclidian', 'manhattan'],\n",
       "                         'n_neighbors': [20, 50, 75, 100],\n",
       "                         'weights': ['uniform', 'distance']},\n",
       "             verbose=2)"
      ]
     },
     "execution_count": 30,
     "metadata": {},
     "output_type": "execute_result"
    }
   ],
   "source": [
    "from sklearn.model_selection import GridSearchCV\n",
    "\n",
    "# let's use GridSearchCV to try a variety of parameter combinations for our model\n",
    "param_grid = {\n",
    "    'n_neighbors': [20, 50, 75, 100], \n",
    "    'weights': ['uniform', 'distance'],\n",
    "    'algorithm': ['auto', 'ball_tree', 'kd_tree'],\n",
    "    'metric': ['euclidian', 'manhattan']\n",
    "    }\n",
    "\n",
    "knn_model = KNeighborsClassifier()\n",
    "grid_search = GridSearchCV(estimator = knn_model, param_grid = param_grid, \n",
    "                           cv = 3, n_jobs = -1, verbose = 2)\n",
    "grid_search.fit(X_train, y_train)"
   ]
  },
  {
   "cell_type": "code",
   "execution_count": 31,
   "metadata": {},
   "outputs": [
    {
     "name": "stdout",
     "output_type": "stream",
     "text": [
      "Best parameter set found: \n",
      "\n",
      "{'algorithm': 'auto', 'metric': 'manhattan', 'n_neighbors': 75, 'weights': 'distance'}\n",
      "\n",
      "Scores on train set:\n",
      "\n",
      "nan (2*std = nan) for {'algorithm': 'auto', 'metric': 'euclidian', 'n_neighbors': 20, 'weights': 'uniform'}\n",
      "nan (2*std = nan) for {'algorithm': 'auto', 'metric': 'euclidian', 'n_neighbors': 20, 'weights': 'distance'}\n",
      "nan (2*std = nan) for {'algorithm': 'auto', 'metric': 'euclidian', 'n_neighbors': 50, 'weights': 'uniform'}\n",
      "nan (2*std = nan) for {'algorithm': 'auto', 'metric': 'euclidian', 'n_neighbors': 50, 'weights': 'distance'}\n",
      "nan (2*std = nan) for {'algorithm': 'auto', 'metric': 'euclidian', 'n_neighbors': 75, 'weights': 'uniform'}\n",
      "nan (2*std = nan) for {'algorithm': 'auto', 'metric': 'euclidian', 'n_neighbors': 75, 'weights': 'distance'}\n",
      "nan (2*std = nan) for {'algorithm': 'auto', 'metric': 'euclidian', 'n_neighbors': 100, 'weights': 'uniform'}\n",
      "nan (2*std = nan) for {'algorithm': 'auto', 'metric': 'euclidian', 'n_neighbors': 100, 'weights': 'distance'}\n",
      "0.917 (2*std = 0.000) for {'algorithm': 'auto', 'metric': 'manhattan', 'n_neighbors': 20, 'weights': 'uniform'}\n",
      "0.926 (2*std = 0.001) for {'algorithm': 'auto', 'metric': 'manhattan', 'n_neighbors': 20, 'weights': 'distance'}\n",
      "0.917 (2*std = 0.000) for {'algorithm': 'auto', 'metric': 'manhattan', 'n_neighbors': 50, 'weights': 'uniform'}\n",
      "0.928 (2*std = 0.001) for {'algorithm': 'auto', 'metric': 'manhattan', 'n_neighbors': 50, 'weights': 'distance'}\n",
      "0.917 (2*std = 0.000) for {'algorithm': 'auto', 'metric': 'manhattan', 'n_neighbors': 75, 'weights': 'uniform'}\n",
      "0.928 (2*std = 0.001) for {'algorithm': 'auto', 'metric': 'manhattan', 'n_neighbors': 75, 'weights': 'distance'}\n",
      "0.917 (2*std = 0.000) for {'algorithm': 'auto', 'metric': 'manhattan', 'n_neighbors': 100, 'weights': 'uniform'}\n",
      "0.928 (2*std = 0.002) for {'algorithm': 'auto', 'metric': 'manhattan', 'n_neighbors': 100, 'weights': 'distance'}\n",
      "nan (2*std = nan) for {'algorithm': 'ball_tree', 'metric': 'euclidian', 'n_neighbors': 20, 'weights': 'uniform'}\n",
      "nan (2*std = nan) for {'algorithm': 'ball_tree', 'metric': 'euclidian', 'n_neighbors': 20, 'weights': 'distance'}\n",
      "nan (2*std = nan) for {'algorithm': 'ball_tree', 'metric': 'euclidian', 'n_neighbors': 50, 'weights': 'uniform'}\n",
      "nan (2*std = nan) for {'algorithm': 'ball_tree', 'metric': 'euclidian', 'n_neighbors': 50, 'weights': 'distance'}\n",
      "nan (2*std = nan) for {'algorithm': 'ball_tree', 'metric': 'euclidian', 'n_neighbors': 75, 'weights': 'uniform'}\n",
      "nan (2*std = nan) for {'algorithm': 'ball_tree', 'metric': 'euclidian', 'n_neighbors': 75, 'weights': 'distance'}\n",
      "nan (2*std = nan) for {'algorithm': 'ball_tree', 'metric': 'euclidian', 'n_neighbors': 100, 'weights': 'uniform'}\n",
      "nan (2*std = nan) for {'algorithm': 'ball_tree', 'metric': 'euclidian', 'n_neighbors': 100, 'weights': 'distance'}\n",
      "0.917 (2*std = 0.000) for {'algorithm': 'ball_tree', 'metric': 'manhattan', 'n_neighbors': 20, 'weights': 'uniform'}\n",
      "0.926 (2*std = 0.001) for {'algorithm': 'ball_tree', 'metric': 'manhattan', 'n_neighbors': 20, 'weights': 'distance'}\n",
      "0.917 (2*std = 0.000) for {'algorithm': 'ball_tree', 'metric': 'manhattan', 'n_neighbors': 50, 'weights': 'uniform'}\n",
      "0.928 (2*std = 0.001) for {'algorithm': 'ball_tree', 'metric': 'manhattan', 'n_neighbors': 50, 'weights': 'distance'}\n",
      "0.917 (2*std = 0.000) for {'algorithm': 'ball_tree', 'metric': 'manhattan', 'n_neighbors': 75, 'weights': 'uniform'}\n",
      "0.928 (2*std = 0.001) for {'algorithm': 'ball_tree', 'metric': 'manhattan', 'n_neighbors': 75, 'weights': 'distance'}\n",
      "0.917 (2*std = 0.000) for {'algorithm': 'ball_tree', 'metric': 'manhattan', 'n_neighbors': 100, 'weights': 'uniform'}\n",
      "0.928 (2*std = 0.002) for {'algorithm': 'ball_tree', 'metric': 'manhattan', 'n_neighbors': 100, 'weights': 'distance'}\n",
      "nan (2*std = nan) for {'algorithm': 'kd_tree', 'metric': 'euclidian', 'n_neighbors': 20, 'weights': 'uniform'}\n",
      "nan (2*std = nan) for {'algorithm': 'kd_tree', 'metric': 'euclidian', 'n_neighbors': 20, 'weights': 'distance'}\n",
      "nan (2*std = nan) for {'algorithm': 'kd_tree', 'metric': 'euclidian', 'n_neighbors': 50, 'weights': 'uniform'}\n",
      "nan (2*std = nan) for {'algorithm': 'kd_tree', 'metric': 'euclidian', 'n_neighbors': 50, 'weights': 'distance'}\n",
      "nan (2*std = nan) for {'algorithm': 'kd_tree', 'metric': 'euclidian', 'n_neighbors': 75, 'weights': 'uniform'}\n",
      "nan (2*std = nan) for {'algorithm': 'kd_tree', 'metric': 'euclidian', 'n_neighbors': 75, 'weights': 'distance'}\n",
      "nan (2*std = nan) for {'algorithm': 'kd_tree', 'metric': 'euclidian', 'n_neighbors': 100, 'weights': 'uniform'}\n",
      "nan (2*std = nan) for {'algorithm': 'kd_tree', 'metric': 'euclidian', 'n_neighbors': 100, 'weights': 'distance'}\n",
      "0.917 (2*std = 0.000) for {'algorithm': 'kd_tree', 'metric': 'manhattan', 'n_neighbors': 20, 'weights': 'uniform'}\n",
      "0.926 (2*std = 0.001) for {'algorithm': 'kd_tree', 'metric': 'manhattan', 'n_neighbors': 20, 'weights': 'distance'}\n",
      "0.917 (2*std = 0.000) for {'algorithm': 'kd_tree', 'metric': 'manhattan', 'n_neighbors': 50, 'weights': 'uniform'}\n",
      "0.928 (2*std = 0.001) for {'algorithm': 'kd_tree', 'metric': 'manhattan', 'n_neighbors': 50, 'weights': 'distance'}\n",
      "0.917 (2*std = 0.000) for {'algorithm': 'kd_tree', 'metric': 'manhattan', 'n_neighbors': 75, 'weights': 'uniform'}\n",
      "0.928 (2*std = 0.001) for {'algorithm': 'kd_tree', 'metric': 'manhattan', 'n_neighbors': 75, 'weights': 'distance'}\n",
      "0.917 (2*std = 0.000) for {'algorithm': 'kd_tree', 'metric': 'manhattan', 'n_neighbors': 100, 'weights': 'uniform'}\n",
      "0.928 (2*std = 0.002) for {'algorithm': 'kd_tree', 'metric': 'manhattan', 'n_neighbors': 100, 'weights': 'distance'}\n"
     ]
    }
   ],
   "source": [
    "printGridResults(grid_search)"
   ]
  },
  {
   "cell_type": "code",
   "execution_count": 32,
   "metadata": {},
   "outputs": [
    {
     "name": "stdout",
     "output_type": "stream",
     "text": [
      "Best KNN model accuracy (validation): 0.906\n",
      "Best KNN model accuracy (testing): 0.932\n"
     ]
    }
   ],
   "source": [
    "{'algorithm': 'auto', 'metric': 'manhattan', 'n_neighbors': 75, 'weights': 'distance'}\n",
    "\n",
    "# this is the best model found by GridSearchCV\n",
    "#final_knn_model = KNeighborsClassifier(algorithm='auto', n_neighbors=100, weights='distance')\n",
    "final_knn_model = KNeighborsClassifier(algorithm='auto', metric='manhattan', n_neighbors=75, weights='distance')\n",
    "final_knn_model.fit(X_train, y_train)\n",
    "\n",
    "y_predict = final_knn_model.predict(X_final_test)\n",
    "accuracy_validation = accuracy_score(y_test, y_predict)\n",
    "accuracy_testing = accuracy_score(y_final_test, y_predict)\n",
    "\n",
    "print(f'Best KNN model accuracy (validation): {round(accuracy_validation, 3)}')\n",
    "print(f'Best KNN model accuracy (testing): {round(accuracy_testing, 3)}')"
   ]
  },
  {
   "cell_type": "markdown",
   "metadata": {},
   "source": [
    "### 4. Logistic Regression Models"
   ]
  },
  {
   "cell_type": "code",
   "execution_count": 33,
   "metadata": {},
   "outputs": [],
   "source": [
    "# import class for modeling\n",
    "from sklearn.linear_model import LogisticRegression\n",
    "\n",
    "#instantiate LogisticRegression object\n",
    "logreg = LogisticRegression()\n",
    "\n",
    "#train model with fit\n",
    "logreg.fit(X_train, y_train)\n",
    "\n",
    "#testing/prediction of the trained object\n",
    "y_predict_lr = logreg.predict(X_test)"
   ]
  },
  {
   "cell_type": "code",
   "execution_count": 34,
   "metadata": {},
   "outputs": [
    {
     "name": "stdout",
     "output_type": "stream",
     "text": [
      "0.9058674546222034\n",
      "Accuracy: 0.906\n"
     ]
    }
   ],
   "source": [
    "# check accuracy of the classifier on validation set\n",
    "accuracy_lr = accuracy_score(y_test, y_predict)\n",
    "print(accuracy_lr)\n",
    "print(f'Accuracy: {round(accuracy_lr, 3)}')"
   ]
  },
  {
   "cell_type": "code",
   "execution_count": 35,
   "metadata": {},
   "outputs": [
    {
     "name": "stdout",
     "output_type": "stream",
     "text": [
      "0.9316167159138877\n",
      "Accuracy: 0.932\n"
     ]
    }
   ],
   "source": [
    "# check accuracy of the classifier on testing set\n",
    "y_predict_lr = logreg.predict(X_final_test)\n",
    "accuracy_lr = accuracy_score(y_final_test, y_predict)\n",
    "print(accuracy_lr)\n",
    "print(f'Accuracy: {round(accuracy_lr, 3)}')"
   ]
  },
  {
   "cell_type": "markdown",
   "metadata": {},
   "source": [
    "### 5. Decision Tree Models"
   ]
  },
  {
   "cell_type": "code",
   "execution_count": 36,
   "metadata": {},
   "outputs": [
    {
     "data": {
      "text/plain": [
       "DecisionTreeClassifier()"
      ]
     },
     "execution_count": 36,
     "metadata": {},
     "output_type": "execute_result"
    }
   ],
   "source": [
    "from sklearn.tree import DecisionTreeClassifier\n",
    "\n",
    "# create object \n",
    "d_tree = DecisionTreeClassifier()\n",
    "\n",
    "# train \n",
    "d_tree.fit(X_train, y_train)"
   ]
  },
  {
   "cell_type": "code",
   "execution_count": 37,
   "metadata": {},
   "outputs": [
    {
     "name": "stdout",
     "output_type": "stream",
     "text": [
      "0.8805403123680878\n"
     ]
    }
   ],
   "source": [
    "# test\n",
    "y_predict = d_tree.predict(X_test)\n",
    "\n",
    "# check accuracy \n",
    "accuracy = accuracy_score(y_test, y_predict)\n",
    "print(accuracy)"
   ]
  },
  {
   "cell_type": "code",
   "execution_count": 38,
   "metadata": {},
   "outputs": [
    {
     "name": "stdout",
     "output_type": "stream",
     "text": [
      "0.8894048121570283\n"
     ]
    }
   ],
   "source": [
    "# test final test set \n",
    "y_predict = d_tree.predict(X_final_test)\n",
    "\n",
    "# check accuracy \n",
    "accuracy = accuracy_score(y_final_test, y_predict) \n",
    "print(accuracy)"
   ]
  },
  {
   "cell_type": "markdown",
   "metadata": {},
   "source": [
    "### 6. Random Forest Models"
   ]
  },
  {
   "cell_type": "code",
   "execution_count": 39,
   "metadata": {},
   "outputs": [
    {
     "data": {
      "text/plain": [
       "RandomForestClassifier(n_estimators=19, random_state=2)"
      ]
     },
     "execution_count": 39,
     "metadata": {},
     "output_type": "execute_result"
    }
   ],
   "source": [
    "from sklearn.ensemble import RandomForestClassifier\n",
    "\n",
    "# You can adjust parameters:\n",
    "my_RandomForest = RandomForestClassifier(n_estimators = 19, bootstrap = True, random_state=2)\n",
    "\n",
    "# for training:  my_RandomForest.fit \n",
    "# for testing/prediction:  my_RandomForest.predict\n",
    "\n",
    "my_RandomForest.fit(X_train, y_train)"
   ]
  },
  {
   "cell_type": "code",
   "execution_count": 40,
   "metadata": {},
   "outputs": [
    {
     "name": "stdout",
     "output_type": "stream",
     "text": [
      "0.939636977627691\n",
      "Accuracy: 0.94\n"
     ]
    }
   ],
   "source": [
    "# check accuracy of the classifier on validation set\n",
    "y_predict = my_RandomForest.predict(X_test)\n",
    "accuracy = accuracy_score(y_test, y_predict)\n",
    "print(accuracy)\n",
    "print(f'Accuracy: {round(accuracy, 3)}')"
   ]
  },
  {
   "cell_type": "code",
   "execution_count": 41,
   "metadata": {},
   "outputs": [
    {
     "name": "stdout",
     "output_type": "stream",
     "text": [
      "0.9316167159138877\n",
      "Accuracy: 0.932\n"
     ]
    }
   ],
   "source": [
    "# check accuracy of the classifier on final testing set\n",
    "y_predict = my_RandomForest.predict(X_final_test)\n",
    "accuracy = accuracy_score(y_final_test, y_predict) \n",
    "print(accuracy)\n",
    "print(f'Accuracy: {round(accuracy, 3)}')"
   ]
  },
  {
   "cell_type": "markdown",
   "metadata": {},
   "source": [
    "### 7. SVC Models\n",
    "- Try using support vector classifiers for our predictions"
   ]
  },
  {
   "cell_type": "code",
   "execution_count": 42,
   "metadata": {},
   "outputs": [
    {
     "data": {
      "text/plain": [
       "Pipeline(steps=[('standardscaler', StandardScaler()),\n",
       "                ('svc', SVC(gamma='auto'))])"
      ]
     },
     "execution_count": 42,
     "metadata": {},
     "output_type": "execute_result"
    }
   ],
   "source": [
    "from sklearn.pipeline import make_pipeline\n",
    "from sklearn.preprocessing import StandardScaler\n",
    "from sklearn.svm import SVC\n",
    "\n",
    "clf = make_pipeline(StandardScaler(), SVC(gamma='auto'))\n",
    "clf.fit(X_train, y_train)"
   ]
  },
  {
   "cell_type": "code",
   "execution_count": 43,
   "metadata": {},
   "outputs": [
    {
     "name": "stdout",
     "output_type": "stream",
     "text": [
      "0.9214858590122414\n",
      "Accuracy: 0.921\n"
     ]
    }
   ],
   "source": [
    "# check accuracy of the classifier on validation set\n",
    "y_predict = clf.predict(X_test)\n",
    "accuracy = accuracy_score(y_test, y_predict) \n",
    "print(accuracy)\n",
    "print(f'Accuracy: {round(accuracy, 3)}')"
   ]
  },
  {
   "cell_type": "code",
   "execution_count": 44,
   "metadata": {},
   "outputs": [
    {
     "name": "stdout",
     "output_type": "stream",
     "text": [
      "0.9176867876741241\n",
      "Accuracy: 0.918\n"
     ]
    }
   ],
   "source": [
    "# check accuracy of the classifier on final testing set\n",
    "y_predict = clf.predict(X_final_test)\n",
    "accuracy = accuracy_score(y_final_test, y_predict) \n",
    "print(accuracy)\n",
    "print(f'Accuracy: {round(accuracy, 3)}')"
   ]
  },
  {
   "cell_type": "markdown",
   "metadata": {},
   "source": [
    "### 8. XGBoost\n",
    "- Try the XGBoost algorithm, https://xgboost.readthedocs.io/en/stable/"
   ]
  },
  {
   "cell_type": "code",
   "execution_count": 45,
   "metadata": {},
   "outputs": [
    {
     "name": "stdout",
     "output_type": "stream",
     "text": [
      "Requirement already satisfied: xgboost in c:\\users\\fcarras\\anaconda3\\lib\\site-packages (1.7.2)\n",
      "Requirement already satisfied: scipy in c:\\users\\fcarras\\anaconda3\\lib\\site-packages (from xgboost) (1.7.3)\n",
      "Requirement already satisfied: numpy in c:\\users\\fcarras\\anaconda3\\lib\\site-packages (from xgboost) (1.21.5)\n"
     ]
    }
   ],
   "source": [
    "import sys\n",
    "!{sys.executable} -m pip install xgboost"
   ]
  },
  {
   "cell_type": "code",
   "execution_count": 46,
   "metadata": {},
   "outputs": [],
   "source": [
    "import xgboost as xgb\n"
   ]
  },
  {
   "cell_type": "code",
   "execution_count": 47,
   "metadata": {},
   "outputs": [
    {
     "data": {
      "text/plain": [
       "XGBClassifier(base_score=0.5, booster='gbtree', callbacks=None,\n",
       "              colsample_bylevel=1, colsample_bynode=1, colsample_bytree=1,\n",
       "              early_stopping_rounds=None, enable_categorical=False,\n",
       "              eval_metric=None, feature_types=None, gamma=0, gpu_id=-1,\n",
       "              grow_policy='depthwise', importance_type=None,\n",
       "              interaction_constraints='', learning_rate=0.300000012,\n",
       "              max_bin=256, max_cat_threshold=64, max_cat_to_onehot=4,\n",
       "              max_delta_step=0, max_depth=6, max_leaves=0, min_child_weight=1,\n",
       "              missing=nan, monotone_constraints='()', n_estimators=100,\n",
       "              n_jobs=0, num_parallel_tree=1, predictor='auto', random_state=0, ...)"
      ]
     },
     "execution_count": 47,
     "metadata": {},
     "output_type": "execute_result"
    }
   ],
   "source": [
    "model = xgb.XGBClassifier()\n",
    "model.fit(X_train, y_train)"
   ]
  },
  {
   "cell_type": "code",
   "execution_count": 48,
   "metadata": {},
   "outputs": [
    {
     "data": {
      "text/plain": [
       "array([0, 0, 0, ..., 0, 0, 1])"
      ]
     },
     "execution_count": 48,
     "metadata": {},
     "output_type": "execute_result"
    }
   ],
   "source": [
    "y_predict = model.predict(X_test)\n",
    "y_predict"
   ]
  },
  {
   "cell_type": "code",
   "execution_count": 49,
   "metadata": {},
   "outputs": [
    {
     "name": "stdout",
     "output_type": "stream",
     "text": [
      "0.9349936682144365\n",
      "Accuracy: 0.935\n"
     ]
    }
   ],
   "source": [
    "# check accuracy of the classifier on validation set\n",
    "accuracy = accuracy_score(y_test, y_predict) \n",
    "print(accuracy)\n",
    "print(f'Accuracy: {round(accuracy, 3)}')"
   ]
  },
  {
   "cell_type": "code",
   "execution_count": 50,
   "metadata": {},
   "outputs": [
    {
     "name": "stdout",
     "output_type": "stream",
     "text": [
      "0.9311945968763191\n",
      "Accuracy: 0.931\n"
     ]
    }
   ],
   "source": [
    "# check accuracy of the classifier on final testing set\n",
    "y_predict = model.predict(X_final_test)\n",
    "accuracy = accuracy_score(y_final_test, y_predict) \n",
    "print(accuracy)\n",
    "print(f'Accuracy: {round(accuracy, 3)}')"
   ]
  },
  {
   "cell_type": "code",
   "execution_count": 51,
   "metadata": {},
   "outputs": [
    {
     "data": {
      "text/html": [
       "<div>\n",
       "<style scoped>\n",
       "    .dataframe tbody tr th:only-of-type {\n",
       "        vertical-align: middle;\n",
       "    }\n",
       "\n",
       "    .dataframe tbody tr th {\n",
       "        vertical-align: top;\n",
       "    }\n",
       "\n",
       "    .dataframe thead th {\n",
       "        text-align: right;\n",
       "    }\n",
       "</style>\n",
       "<table border=\"1\" class=\"dataframe\">\n",
       "  <thead>\n",
       "    <tr style=\"text-align: right;\">\n",
       "      <th></th>\n",
       "      <th>danceability</th>\n",
       "      <th>energy</th>\n",
       "      <th>loudness</th>\n",
       "      <th>mode</th>\n",
       "      <th>key</th>\n",
       "      <th>speechiness</th>\n",
       "      <th>acousticness</th>\n",
       "      <th>instrumentalness</th>\n",
       "      <th>liveness</th>\n",
       "      <th>valence</th>\n",
       "      <th>tempo</th>\n",
       "      <th>duration_ms</th>\n",
       "    </tr>\n",
       "  </thead>\n",
       "  <tbody>\n",
       "    <tr>\n",
       "      <th>count</th>\n",
       "      <td>11845.000000</td>\n",
       "      <td>11845.000000</td>\n",
       "      <td>11845.000000</td>\n",
       "      <td>11845.000000</td>\n",
       "      <td>11845.000000</td>\n",
       "      <td>11845.000000</td>\n",
       "      <td>11845.000000</td>\n",
       "      <td>11845.000000</td>\n",
       "      <td>11845.000000</td>\n",
       "      <td>11845.000000</td>\n",
       "      <td>11845.000000</td>\n",
       "      <td>1.184500e+04</td>\n",
       "    </tr>\n",
       "    <tr>\n",
       "      <th>mean</th>\n",
       "      <td>0.584837</td>\n",
       "      <td>0.557328</td>\n",
       "      <td>-10.974457</td>\n",
       "      <td>0.635880</td>\n",
       "      <td>5.228620</td>\n",
       "      <td>0.137318</td>\n",
       "      <td>0.343228</td>\n",
       "      <td>0.215818</td>\n",
       "      <td>0.209896</td>\n",
       "      <td>0.471293</td>\n",
       "      <td>118.193575</td>\n",
       "      <td>2.039278e+05</td>\n",
       "    </tr>\n",
       "    <tr>\n",
       "      <th>std</th>\n",
       "      <td>0.202842</td>\n",
       "      <td>0.252237</td>\n",
       "      <td>6.673374</td>\n",
       "      <td>0.481203</td>\n",
       "      <td>3.623385</td>\n",
       "      <td>0.157725</td>\n",
       "      <td>0.335993</td>\n",
       "      <td>0.359646</td>\n",
       "      <td>0.186884</td>\n",
       "      <td>0.269999</td>\n",
       "      <td>30.821928</td>\n",
       "      <td>1.033722e+05</td>\n",
       "    </tr>\n",
       "    <tr>\n",
       "      <th>min</th>\n",
       "      <td>0.000000</td>\n",
       "      <td>0.000020</td>\n",
       "      <td>-51.808000</td>\n",
       "      <td>0.000000</td>\n",
       "      <td>0.000000</td>\n",
       "      <td>0.000000</td>\n",
       "      <td>0.000000</td>\n",
       "      <td>0.000000</td>\n",
       "      <td>0.000000</td>\n",
       "      <td>0.000000</td>\n",
       "      <td>0.000000</td>\n",
       "      <td>4.693000e+03</td>\n",
       "    </tr>\n",
       "    <tr>\n",
       "      <th>25%</th>\n",
       "      <td>0.458000</td>\n",
       "      <td>0.393000</td>\n",
       "      <td>-13.342000</td>\n",
       "      <td>0.000000</td>\n",
       "      <td>2.000000</td>\n",
       "      <td>0.038700</td>\n",
       "      <td>0.035100</td>\n",
       "      <td>0.000000</td>\n",
       "      <td>0.098900</td>\n",
       "      <td>0.252000</td>\n",
       "      <td>93.995000</td>\n",
       "      <td>1.518930e+05</td>\n",
       "    </tr>\n",
       "    <tr>\n",
       "      <th>50%</th>\n",
       "      <td>0.616000</td>\n",
       "      <td>0.579000</td>\n",
       "      <td>-9.060000</td>\n",
       "      <td>1.000000</td>\n",
       "      <td>5.000000</td>\n",
       "      <td>0.059900</td>\n",
       "      <td>0.218000</td>\n",
       "      <td>0.000077</td>\n",
       "      <td>0.128000</td>\n",
       "      <td>0.478000</td>\n",
       "      <td>118.030000</td>\n",
       "      <td>1.961380e+05</td>\n",
       "    </tr>\n",
       "    <tr>\n",
       "      <th>75%</th>\n",
       "      <td>0.739000</td>\n",
       "      <td>0.747000</td>\n",
       "      <td>-6.450000</td>\n",
       "      <td>1.000000</td>\n",
       "      <td>8.000000</td>\n",
       "      <td>0.186000</td>\n",
       "      <td>0.629000</td>\n",
       "      <td>0.345000</td>\n",
       "      <td>0.267000</td>\n",
       "      <td>0.689000</td>\n",
       "      <td>138.550000</td>\n",
       "      <td>2.405470e+05</td>\n",
       "    </tr>\n",
       "    <tr>\n",
       "      <th>max</th>\n",
       "      <td>0.986000</td>\n",
       "      <td>1.000000</td>\n",
       "      <td>3.108000</td>\n",
       "      <td>1.000000</td>\n",
       "      <td>11.000000</td>\n",
       "      <td>0.962000</td>\n",
       "      <td>0.996000</td>\n",
       "      <td>1.000000</td>\n",
       "      <td>0.999000</td>\n",
       "      <td>0.995000</td>\n",
       "      <td>239.500000</td>\n",
       "      <td>3.637277e+06</td>\n",
       "    </tr>\n",
       "  </tbody>\n",
       "</table>\n",
       "</div>"
      ],
      "text/plain": [
       "       danceability        energy      loudness          mode           key  \\\n",
       "count  11845.000000  11845.000000  11845.000000  11845.000000  11845.000000   \n",
       "mean       0.584837      0.557328    -10.974457      0.635880      5.228620   \n",
       "std        0.202842      0.252237      6.673374      0.481203      3.623385   \n",
       "min        0.000000      0.000020    -51.808000      0.000000      0.000000   \n",
       "25%        0.458000      0.393000    -13.342000      0.000000      2.000000   \n",
       "50%        0.616000      0.579000     -9.060000      1.000000      5.000000   \n",
       "75%        0.739000      0.747000     -6.450000      1.000000      8.000000   \n",
       "max        0.986000      1.000000      3.108000      1.000000     11.000000   \n",
       "\n",
       "        speechiness  acousticness  instrumentalness      liveness  \\\n",
       "count  11845.000000  11845.000000      11845.000000  11845.000000   \n",
       "mean       0.137318      0.343228          0.215818      0.209896   \n",
       "std        0.157725      0.335993          0.359646      0.186884   \n",
       "min        0.000000      0.000000          0.000000      0.000000   \n",
       "25%        0.038700      0.035100          0.000000      0.098900   \n",
       "50%        0.059900      0.218000          0.000077      0.128000   \n",
       "75%        0.186000      0.629000          0.345000      0.267000   \n",
       "max        0.962000      0.996000          1.000000      0.999000   \n",
       "\n",
       "            valence         tempo   duration_ms  \n",
       "count  11845.000000  11845.000000  1.184500e+04  \n",
       "mean       0.471293    118.193575  2.039278e+05  \n",
       "std        0.269999     30.821928  1.033722e+05  \n",
       "min        0.000000      0.000000  4.693000e+03  \n",
       "25%        0.252000     93.995000  1.518930e+05  \n",
       "50%        0.478000    118.030000  1.961380e+05  \n",
       "75%        0.689000    138.550000  2.405470e+05  \n",
       "max        0.995000    239.500000  3.637277e+06  "
      ]
     },
     "execution_count": 51,
     "metadata": {},
     "output_type": "execute_result"
    }
   ],
   "source": [
    "combined_df.describe()"
   ]
  },
  {
   "cell_type": "code",
   "execution_count": 52,
   "metadata": {},
   "outputs": [
    {
     "data": {
      "text/plain": [
       "Index(['track_name', 'artist_name', 'danceability', 'energy', 'loudness',\n",
       "       'mode', 'key', 'speechiness', 'acousticness', 'instrumentalness',\n",
       "       'liveness', 'valence', 'tempo', 'duration_ms'],\n",
       "      dtype='object')"
      ]
     },
     "execution_count": 52,
     "metadata": {},
     "output_type": "execute_result"
    }
   ],
   "source": [
    "feature_cols"
   ]
  },
  {
   "cell_type": "code",
   "execution_count": 53,
   "metadata": {},
   "outputs": [
    {
     "name": "stdout",
     "output_type": "stream",
     "text": [
      "Not popular: 10877 \n",
      "Popular: 968\n"
     ]
    },
    {
     "data": {
      "text/plain": [
       "<AxesSubplot:>"
      ]
     },
     "execution_count": 53,
     "metadata": {},
     "output_type": "execute_result"
    },
    {
     "data": {
      "image/png": "[encoded data removed]",
      "text/plain": [
       "<Figure size 720x720 with 1 Axes>"
      ]
     },
     "metadata": {},
     "output_type": "display_data"
    }
   ],
   "source": [
    "import matplotlib.pyplot as plt\n",
    "import seaborn as sns\n",
    "\n",
    "#sns.countplot(combined_df['is_popular'])\n",
    "pop = len(combined_df[combined_df.is_popular==True])\n",
    "notPop = len(combined_df[combined_df.is_popular==False])\n",
    "print(\"Not popular:\", notPop,\"\\nPopular:\", pop)\n",
    "\n",
    "title = '' #i don't know what to name it\n",
    "d = {title: [notPop,pop]}\n",
    "g = pd.DataFrame(data=d, index=['Unpopular','Popular'])\n",
    "g.plot.pie(y=title,figsize=(10,10))"
   ]
  },
  {
   "cell_type": "code",
   "execution_count": 54,
   "metadata": {},
   "outputs": [
    {
     "data": {
      "text/html": [
       "<div>\n",
       "<style scoped>\n",
       "    .dataframe tbody tr th:only-of-type {\n",
       "        vertical-align: middle;\n",
       "    }\n",
       "\n",
       "    .dataframe tbody tr th {\n",
       "        vertical-align: top;\n",
       "    }\n",
       "\n",
       "    .dataframe thead th {\n",
       "        text-align: right;\n",
       "    }\n",
       "</style>\n",
       "<table border=\"1\" class=\"dataframe\">\n",
       "  <thead>\n",
       "    <tr style=\"text-align: right;\">\n",
       "      <th></th>\n",
       "      <th>track_name</th>\n",
       "      <th>artist_name</th>\n",
       "      <th>danceability</th>\n",
       "      <th>energy</th>\n",
       "      <th>loudness</th>\n",
       "      <th>mode</th>\n",
       "      <th>key</th>\n",
       "      <th>speechiness</th>\n",
       "      <th>acousticness</th>\n",
       "      <th>instrumentalness</th>\n",
       "      <th>liveness</th>\n",
       "      <th>valence</th>\n",
       "      <th>tempo</th>\n",
       "      <th>duration_ms</th>\n",
       "      <th>is_popular</th>\n",
       "    </tr>\n",
       "  </thead>\n",
       "  <tbody>\n",
       "    <tr>\n",
       "      <th>0</th>\n",
       "      <td>Shake It</td>\n",
       "      <td>Metro Station</td>\n",
       "      <td>0.618</td>\n",
       "      <td>0.955</td>\n",
       "      <td>-3.836</td>\n",
       "      <td>1</td>\n",
       "      <td>4</td>\n",
       "      <td>0.0798</td>\n",
       "      <td>0.002210</td>\n",
       "      <td>0.000003</td>\n",
       "      <td>0.4860</td>\n",
       "      <td>0.790</td>\n",
       "      <td>150.034</td>\n",
       "      <td>179947</td>\n",
       "      <td>True</td>\n",
       "    </tr>\n",
       "    <tr>\n",
       "      <th>1</th>\n",
       "      <td>Chinese New Year</td>\n",
       "      <td>SALES</td>\n",
       "      <td>0.744</td>\n",
       "      <td>0.845</td>\n",
       "      <td>-7.422</td>\n",
       "      <td>0</td>\n",
       "      <td>4</td>\n",
       "      <td>0.2530</td>\n",
       "      <td>0.759000</td>\n",
       "      <td>0.232000</td>\n",
       "      <td>0.1000</td>\n",
       "      <td>0.749</td>\n",
       "      <td>75.221</td>\n",
       "      <td>160000</td>\n",
       "      <td>True</td>\n",
       "    </tr>\n",
       "    <tr>\n",
       "      <th>2</th>\n",
       "      <td>Baby I'm Yours</td>\n",
       "      <td>Breakbot</td>\n",
       "      <td>0.829</td>\n",
       "      <td>0.792</td>\n",
       "      <td>-3.755</td>\n",
       "      <td>0</td>\n",
       "      <td>2</td>\n",
       "      <td>0.0668</td>\n",
       "      <td>0.726000</td>\n",
       "      <td>0.000006</td>\n",
       "      <td>0.1220</td>\n",
       "      <td>0.758</td>\n",
       "      <td>118.050</td>\n",
       "      <td>215507</td>\n",
       "      <td>True</td>\n",
       "    </tr>\n",
       "    <tr>\n",
       "      <th>3</th>\n",
       "      <td>The Git Up</td>\n",
       "      <td>Blanco Brown</td>\n",
       "      <td>0.847</td>\n",
       "      <td>0.678</td>\n",
       "      <td>-8.635</td>\n",
       "      <td>1</td>\n",
       "      <td>9</td>\n",
       "      <td>0.1090</td>\n",
       "      <td>0.066900</td>\n",
       "      <td>0.000000</td>\n",
       "      <td>0.2740</td>\n",
       "      <td>0.811</td>\n",
       "      <td>97.984</td>\n",
       "      <td>200594</td>\n",
       "      <td>True</td>\n",
       "    </tr>\n",
       "    <tr>\n",
       "      <th>4</th>\n",
       "      <td>Say Hey (I Love You)</td>\n",
       "      <td>Michael Franti &amp; Spearhead</td>\n",
       "      <td>0.738</td>\n",
       "      <td>0.983</td>\n",
       "      <td>-4.374</td>\n",
       "      <td>0</td>\n",
       "      <td>5</td>\n",
       "      <td>0.0855</td>\n",
       "      <td>0.038000</td>\n",
       "      <td>0.000006</td>\n",
       "      <td>0.1830</td>\n",
       "      <td>0.957</td>\n",
       "      <td>92.998</td>\n",
       "      <td>235760</td>\n",
       "      <td>True</td>\n",
       "    </tr>\n",
       "    <tr>\n",
       "      <th>...</th>\n",
       "      <td>...</td>\n",
       "      <td>...</td>\n",
       "      <td>...</td>\n",
       "      <td>...</td>\n",
       "      <td>...</td>\n",
       "      <td>...</td>\n",
       "      <td>...</td>\n",
       "      <td>...</td>\n",
       "      <td>...</td>\n",
       "      <td>...</td>\n",
       "      <td>...</td>\n",
       "      <td>...</td>\n",
       "      <td>...</td>\n",
       "      <td>...</td>\n",
       "      <td>...</td>\n",
       "    </tr>\n",
       "    <tr>\n",
       "      <th>258</th>\n",
       "      <td>The Less I Know The Better</td>\n",
       "      <td>Tame Impala</td>\n",
       "      <td>0.640</td>\n",
       "      <td>0.740</td>\n",
       "      <td>-4.083</td>\n",
       "      <td>1</td>\n",
       "      <td>4</td>\n",
       "      <td>0.0284</td>\n",
       "      <td>0.011500</td>\n",
       "      <td>0.006780</td>\n",
       "      <td>0.1670</td>\n",
       "      <td>0.785</td>\n",
       "      <td>116.879</td>\n",
       "      <td>216320</td>\n",
       "      <td>True</td>\n",
       "    </tr>\n",
       "    <tr>\n",
       "      <th>259</th>\n",
       "      <td>Dandelions</td>\n",
       "      <td>Ruth B.</td>\n",
       "      <td>0.609</td>\n",
       "      <td>0.692</td>\n",
       "      <td>-2.958</td>\n",
       "      <td>1</td>\n",
       "      <td>1</td>\n",
       "      <td>0.0259</td>\n",
       "      <td>0.015700</td>\n",
       "      <td>0.000000</td>\n",
       "      <td>0.0864</td>\n",
       "      <td>0.454</td>\n",
       "      <td>116.959</td>\n",
       "      <td>233720</td>\n",
       "      <td>True</td>\n",
       "    </tr>\n",
       "    <tr>\n",
       "      <th>260</th>\n",
       "      <td>Jimmy Cooks (feat. 21 Savage)</td>\n",
       "      <td>Drake</td>\n",
       "      <td>0.529</td>\n",
       "      <td>0.673</td>\n",
       "      <td>-4.711</td>\n",
       "      <td>1</td>\n",
       "      <td>0</td>\n",
       "      <td>0.1750</td>\n",
       "      <td>0.000307</td>\n",
       "      <td>0.000002</td>\n",
       "      <td>0.0930</td>\n",
       "      <td>0.366</td>\n",
       "      <td>165.921</td>\n",
       "      <td>218365</td>\n",
       "      <td>True</td>\n",
       "    </tr>\n",
       "    <tr>\n",
       "      <th>261</th>\n",
       "      <td>Good Looking</td>\n",
       "      <td>Suki Waterhouse</td>\n",
       "      <td>0.377</td>\n",
       "      <td>0.558</td>\n",
       "      <td>-9.076</td>\n",
       "      <td>1</td>\n",
       "      <td>4</td>\n",
       "      <td>0.0299</td>\n",
       "      <td>0.078900</td>\n",
       "      <td>0.000342</td>\n",
       "      <td>0.1250</td>\n",
       "      <td>0.267</td>\n",
       "      <td>149.971</td>\n",
       "      <td>214800</td>\n",
       "      <td>True</td>\n",
       "    </tr>\n",
       "    <tr>\n",
       "      <th>262</th>\n",
       "      <td>INFERNO</td>\n",
       "      <td>Sub Urban</td>\n",
       "      <td>0.820</td>\n",
       "      <td>0.611</td>\n",
       "      <td>-5.020</td>\n",
       "      <td>0</td>\n",
       "      <td>9</td>\n",
       "      <td>0.1220</td>\n",
       "      <td>0.076600</td>\n",
       "      <td>0.000025</td>\n",
       "      <td>0.0684</td>\n",
       "      <td>0.637</td>\n",
       "      <td>127.883</td>\n",
       "      <td>133134</td>\n",
       "      <td>True</td>\n",
       "    </tr>\n",
       "  </tbody>\n",
       "</table>\n",
       "<p>968 rows × 15 columns</p>\n",
       "</div>"
      ],
      "text/plain": [
       "                        track_name                 artist_name  danceability  \\\n",
       "0                         Shake It               Metro Station         0.618   \n",
       "1                 Chinese New Year                       SALES         0.744   \n",
       "2                   Baby I'm Yours                    Breakbot         0.829   \n",
       "3                       The Git Up                Blanco Brown         0.847   \n",
       "4             Say Hey (I Love You)  Michael Franti & Spearhead         0.738   \n",
       "..                             ...                         ...           ...   \n",
       "258     The Less I Know The Better                 Tame Impala         0.640   \n",
       "259                     Dandelions                     Ruth B.         0.609   \n",
       "260  Jimmy Cooks (feat. 21 Savage)                       Drake         0.529   \n",
       "261                   Good Looking             Suki Waterhouse         0.377   \n",
       "262                        INFERNO                   Sub Urban         0.820   \n",
       "\n",
       "     energy  loudness  mode  key  speechiness  acousticness  instrumentalness  \\\n",
       "0     0.955    -3.836     1    4       0.0798      0.002210          0.000003   \n",
       "1     0.845    -7.422     0    4       0.2530      0.759000          0.232000   \n",
       "2     0.792    -3.755     0    2       0.0668      0.726000          0.000006   \n",
       "3     0.678    -8.635     1    9       0.1090      0.066900          0.000000   \n",
       "4     0.983    -4.374     0    5       0.0855      0.038000          0.000006   \n",
       "..      ...       ...   ...  ...          ...           ...               ...   \n",
       "258   0.740    -4.083     1    4       0.0284      0.011500          0.006780   \n",
       "259   0.692    -2.958     1    1       0.0259      0.015700          0.000000   \n",
       "260   0.673    -4.711     1    0       0.1750      0.000307          0.000002   \n",
       "261   0.558    -9.076     1    4       0.0299      0.078900          0.000342   \n",
       "262   0.611    -5.020     0    9       0.1220      0.076600          0.000025   \n",
       "\n",
       "     liveness  valence    tempo  duration_ms  is_popular  \n",
       "0      0.4860    0.790  150.034       179947        True  \n",
       "1      0.1000    0.749   75.221       160000        True  \n",
       "2      0.1220    0.758  118.050       215507        True  \n",
       "3      0.2740    0.811   97.984       200594        True  \n",
       "4      0.1830    0.957   92.998       235760        True  \n",
       "..        ...      ...      ...          ...         ...  \n",
       "258    0.1670    0.785  116.879       216320        True  \n",
       "259    0.0864    0.454  116.959       233720        True  \n",
       "260    0.0930    0.366  165.921       218365        True  \n",
       "261    0.1250    0.267  149.971       214800        True  \n",
       "262    0.0684    0.637  127.883       133134        True  \n",
       "\n",
       "[968 rows x 15 columns]"
      ]
     },
     "execution_count": 54,
     "metadata": {},
     "output_type": "execute_result"
    }
   ],
   "source": [
    "#sns.countplot(songs_2022['energy'])\n",
    "#df with only popular songs\n",
    "dfPop = combined_df[combined_df.is_popular]\n",
    "dfPop"
   ]
  },
  {
   "cell_type": "code",
   "execution_count": 55,
   "metadata": {},
   "outputs": [
    {
     "data": {
      "image/png": "[encoded data removed]",
      "text/plain": [
       "<Figure size 432x288 with 1 Axes>"
      ]
     },
     "metadata": {
      "needs_background": "light"
     },
     "output_type": "display_data"
    }
   ],
   "source": [
    "sns.histplot(unpopular_songs['danceability'], color='magenta', label='unpopular', kde=True,\n",
    "    stat=\"density\", kde_kws=dict(cut=3),\n",
    "    alpha=.4, edgecolor=(1, 1, 1, .4), element=\"step\")\n",
    "sns.histplot(dfPop['danceability'], color='cyan', label='popular',  kde=True,\n",
    "    stat=\"density\", kde_kws=dict(cut=3),\n",
    "    alpha=.4, edgecolor=(1, 1, 1, .4), element=\"step\")\n",
    "plt.legend()\n",
    "plt.show()"
   ]
  },
  {
   "cell_type": "code",
   "execution_count": 56,
   "metadata": {},
   "outputs": [
    {
     "data": {
      "image/png": "[encoded data removed]",
      "text/plain": [
       "<Figure size 432x288 with 1 Axes>"
      ]
     },
     "metadata": {
      "needs_background": "light"
     },
     "output_type": "display_data"
    }
   ],
   "source": [
    "sns.histplot(unpopular_songs['energy'], color='magenta', label='unpopular', kde=True,\n",
    "    stat=\"density\", kde_kws=dict(cut=3),\n",
    "    alpha=.4, edgecolor=(1, 1, 1, .4), element=\"step\")\n",
    "sns.histplot(dfPop['energy'], color='cyan', label='popular', kde=True,\n",
    "    stat=\"density\", kde_kws=dict(cut=3),\n",
    "    alpha=.4, edgecolor=(1, 1, 1, .4), element=\"step\")\n",
    "plt.legend()\n",
    "plt.show()"
   ]
  },
  {
   "cell_type": "code",
   "execution_count": 57,
   "metadata": {},
   "outputs": [
    {
     "data": {
      "image/png": "[encoded data removed]",
      "text/plain": [
       "<Figure size 432x288 with 1 Axes>"
      ]
     },
     "metadata": {
      "needs_background": "light"
     },
     "output_type": "display_data"
    }
   ],
   "source": [
    "sns.histplot(unpopular_songs['loudness'], color='magenta', label='unpopular',kde=True,\n",
    "    stat=\"density\", kde_kws=dict(cut=3),\n",
    "    alpha=.4, edgecolor=(1, 1, 1, .4), element=\"step\")\n",
    "sns.histplot(dfPop['loudness'], color='cyan', label='popular',kde=True,\n",
    "    stat=\"density\", kde_kws=dict(cut=3),\n",
    "    alpha=.4, edgecolor=(1, 1, 1, .4), element=\"step\")\n",
    "plt.legend()\n",
    "plt.show()"
   ]
  },
  {
   "cell_type": "code",
   "execution_count": 58,
   "metadata": {},
   "outputs": [
    {
     "data": {
      "image/png": "[encoded data removed]",
      "text/plain": [
       "<Figure size 432x288 with 1 Axes>"
      ]
     },
     "metadata": {
      "needs_background": "light"
     },
     "output_type": "display_data"
    }
   ],
   "source": [
    "sns.histplot(unpopular_songs['speechiness'], color='magenta', label='unpopular',kde=True,\n",
    "    stat=\"density\", kde_kws=dict(cut=3),\n",
    "    alpha=.4, edgecolor=(1, 1, 1, .4), element=\"step\")\n",
    "sns.histplot(dfPop['speechiness'], color='cyan', label='popular',kde=True,\n",
    "    stat=\"density\", kde_kws=dict(cut=3),\n",
    "    alpha=.4, edgecolor=(1, 1, 1, .4), element=\"step\")\n",
    "plt.legend()\n",
    "plt.show()"
   ]
  },
  {
   "cell_type": "code",
   "execution_count": 59,
   "metadata": {},
   "outputs": [
    {
     "data": {
      "image/png": "[encoded data removed]",
      "text/plain": [
       "<Figure size 432x288 with 1 Axes>"
      ]
     },
     "metadata": {
      "needs_background": "light"
     },
     "output_type": "display_data"
    }
   ],
   "source": [
    "sns.histplot(unpopular_songs['acousticness'], color='magenta', label='unpopular', kde=True,\n",
    "    stat=\"density\", kde_kws=dict(cut=3),\n",
    "    alpha=.4, edgecolor=(1, 1, 1, .4), element=\"step\")\n",
    "sns.histplot(dfPop['acousticness'], color='cyan', label='popular', kde=True,\n",
    "    stat=\"density\", kde_kws=dict(cut=3),\n",
    "    alpha=.4, edgecolor=(1, 1, 1, .4), element=\"step\")\n",
    "plt.legend()\n",
    "plt.show()"
   ]
  },
  {
   "cell_type": "code",
   "execution_count": 82,
   "metadata": {},
   "outputs": [
    {
     "name": "stderr",
     "output_type": "stream",
     "text": [
      "c:\\Users\\fcarras\\Anaconda3\\lib\\site-packages\\seaborn\\distributions.py:2619: FutureWarning: `distplot` is a deprecated function and will be removed in a future version. Please adapt your code to use either `displot` (a figure-level function with similar flexibility) or `histplot` (an axes-level function for histograms).\n",
      "  warnings.warn(msg, FutureWarning)\n",
      "c:\\Users\\fcarras\\Anaconda3\\lib\\site-packages\\seaborn\\distributions.py:2619: FutureWarning: `distplot` is a deprecated function and will be removed in a future version. Please adapt your code to use either `displot` (a figure-level function with similar flexibility) or `histplot` (an axes-level function for histograms).\n",
      "  warnings.warn(msg, FutureWarning)\n"
     ]
    },
    {
     "data": {
      "image/png": "[encoded data removed]",
      "text/plain": [
       "<Figure size 432x288 with 1 Axes>"
      ]
     },
     "metadata": {
      "needs_background": "light"
     },
     "output_type": "display_data"
    }
   ],
   "source": [
    "sns.distplot(unpopular_songs['instrumentalness'], color='magenta', label='unpopular') \n",
    "sns.distplot(dfPop['instrumentalness'], color='cyan', label='popular') \n",
    "plt.legend()\n",
    "plt.show()"
   ]
  },
  {
   "cell_type": "code",
   "execution_count": 63,
   "metadata": {},
   "outputs": [
    {
     "data": {
      "image/png": "[encoded data removed]",
      "text/plain": [
       "<Figure size 432x288 with 1 Axes>"
      ]
     },
     "metadata": {
      "needs_background": "light"
     },
     "output_type": "display_data"
    }
   ],
   "source": [
    "sns.histplot(unpopular_songs['liveness'], color='magenta', label='unpopular', kde=True,\n",
    "    stat=\"density\", kde_kws=dict(cut=3),\n",
    "    alpha=.4, edgecolor=(1, 1, 1, .4), element=\"step\") \n",
    "sns.histplot(dfPop['liveness'], color='cyan', label='popular', kde=True,\n",
    "    stat=\"density\", kde_kws=dict(cut=3),\n",
    "    alpha=.4, edgecolor=(1, 1, 1, .4), element=\"step\") \n",
    "plt.legend()\n",
    "plt.show()"
   ]
  },
  {
   "cell_type": "code",
   "execution_count": 64,
   "metadata": {},
   "outputs": [
    {
     "data": {
      "image/png": "[encoded data removed]",
      "text/plain": [
       "<Figure size 432x288 with 1 Axes>"
      ]
     },
     "metadata": {
      "needs_background": "light"
     },
     "output_type": "display_data"
    }
   ],
   "source": [
    "sns.histplot(unpopular_songs['valence'], color='magenta', label='unpopular', kde=True,\n",
    "    stat=\"density\", kde_kws=dict(cut=3),\n",
    "    alpha=.4, edgecolor=(1, 1, 1, .4), element=\"step\")\n",
    "sns.histplot(dfPop['valence'], color='cyan', label='popular', kde=True,\n",
    "    stat=\"density\", kde_kws=dict(cut=3),\n",
    "    alpha=.4, edgecolor=(1, 1, 1, .4), element=\"step\")\n",
    "plt.legend()\n",
    "plt.show()"
   ]
  },
  {
   "attachments": {},
   "cell_type": "markdown",
   "metadata": {},
   "source": [
    "Comparing tempos\n",
    "\n",
    "There is a big spike around 120 bpm in the popular songs.\n",
    "On average, faster songs are more popular than slower songs."
   ]
  },
  {
   "cell_type": "code",
   "execution_count": 65,
   "metadata": {},
   "outputs": [
    {
     "data": {
      "image/png": "[encoded data removed]",
      "text/plain": [
       "<Figure size 432x288 with 1 Axes>"
      ]
     },
     "metadata": {
      "needs_background": "light"
     },
     "output_type": "display_data"
    }
   ],
   "source": [
    "sns.histplot(unpopular_songs['tempo'], color='magenta', label='unpopular', kde=True,\n",
    "    stat=\"density\", kde_kws=dict(cut=3),\n",
    "    alpha=.4, edgecolor=(1, 1, 1, .4), element=\"step\") \n",
    "sns.histplot(dfPop['tempo'], color='cyan', label='popular', kde=True,\n",
    "    stat=\"density\", kde_kws=dict(cut=3),\n",
    "    alpha=.4, edgecolor=(1, 1, 1, .4), element=\"step\")\n",
    "plt.legend()\n",
    "plt.show()"
   ]
  },
  {
   "cell_type": "code",
   "execution_count": 66,
   "metadata": {},
   "outputs": [
    {
     "data": {
      "text/plain": [
       "count    968.000000\n",
       "mean     122.306415\n",
       "std       25.947943\n",
       "min       62.619000\n",
       "25%      103.033500\n",
       "50%      121.364000\n",
       "75%      135.993500\n",
       "max      210.857000\n",
       "Name: tempo, dtype: float64"
      ]
     },
     "execution_count": 66,
     "metadata": {},
     "output_type": "execute_result"
    }
   ],
   "source": [
    "dfPop['tempo'].describe()"
   ]
  },
  {
   "cell_type": "code",
   "execution_count": 67,
   "metadata": {},
   "outputs": [
    {
     "data": {
      "text/plain": [
       "count    10877.000000\n",
       "mean       117.827552\n",
       "std         31.193596\n",
       "min          0.000000\n",
       "25%         92.996000\n",
       "50%        117.141000\n",
       "75%        138.934000\n",
       "max        239.500000\n",
       "Name: tempo, dtype: float64"
      ]
     },
     "execution_count": 67,
     "metadata": {},
     "output_type": "execute_result"
    }
   ],
   "source": [
    "unpopular_songs['tempo'].describe()"
   ]
  },
  {
   "attachments": {},
   "cell_type": "markdown",
   "metadata": {},
   "source": [
    "Comparing different keys\n",
    "\n",
    "The graphs have similarities. In the popular songs, there is a significant decrease in songs with keys in C, D, F, and A (0, 2, 7, 9) compared to the unpopular songs"
   ]
  },
  {
   "cell_type": "code",
   "execution_count": 68,
   "metadata": {},
   "outputs": [
    {
     "data": {
      "text/plain": [
       "<AxesSubplot:xlabel='key', ylabel='count'>"
      ]
     },
     "execution_count": 68,
     "metadata": {},
     "output_type": "execute_result"
    },
    {
     "data": {
      "image/png": "[encoded data removed]",
      "text/plain": [
       "<Figure size 432x288 with 1 Axes>"
      ]
     },
     "metadata": {
      "needs_background": "light"
     },
     "output_type": "display_data"
    }
   ],
   "source": [
    "keys = ['C', 'C#/Db', 'D', 'D#/Eb', 'E', 'F', 'F#/Gb', 'A', 'A#/Bb', 'B'] #rename maybe\n",
    "sns.countplot(x = unpopular_songs['key']) \n"
   ]
  },
  {
   "cell_type": "code",
   "execution_count": 69,
   "metadata": {},
   "outputs": [
    {
     "data": {
      "text/plain": [
       "<AxesSubplot:xlabel='key', ylabel='count'>"
      ]
     },
     "execution_count": 69,
     "metadata": {},
     "output_type": "execute_result"
    },
    {
     "data": {
      "image/png": "[encoded data removed]",
      "text/plain": [
       "<Figure size 432x288 with 1 Axes>"
      ]
     },
     "metadata": {
      "needs_background": "light"
     },
     "output_type": "display_data"
    }
   ],
   "source": [
    "sns.countplot(x = dfPop['key'])"
   ]
  }
 ],
 "metadata": {
  "kernelspec": {
   "display_name": "base",
   "language": "python",
   "name": "python3"
  },
  "language_info": {
   "codemirror_mode": {
    "name": "ipython",
    "version": 3
   },
   "file_extension": ".py",
   "mimetype": "text/x-python",
   "name": "python",
   "nbconvert_exporter": "python",
   "pygments_lexer": "ipython3",
   "version": "3.9.12"
  },
  "orig_nbformat": 4,
  "vscode": {
   "interpreter": {
    "hash": "224d6d3f3aaf7ad0e49846411ffcb67dbd8af7422c292e49fb0f968a347fb2c0"
   }
  }
 },
 "nbformat": 4,
 "nbformat_minor": 2
}
